{
 "cells": [
  {
   "cell_type": "code",
   "execution_count": 5,
   "id": "73bca249-185d-4c22-b92d-0a97db25e610",
   "metadata": {},
   "outputs": [
    {
     "data": {
      "text/plain": [
       "'/Qualidade_NYC/bronze/Watershed_Water_Quality_-_Wastewater.csv'"
      ]
     },
     "execution_count": 5,
     "metadata": {},
     "output_type": "execute_result"
    }
   ],
   "source": [
    "from os import PathLike\n",
    "from hdfs import InsecureClient\n",
    "from pyspark.sql import SparkSession\n",
    "from pyspark.sql import Row\n",
    "from delta import *\n",
    "from pyspark.sql.types import LongType, StringType, DateType, FloatType, StructField, StructType, BooleanType, ArrayType, IntegerType\n",
    "\n",
    "client=InsecureClient(\"http://hdfs-nn:9870\", user=\"anonymous\")\n",
    "\n",
    "from_path= \"./Watershed_Water_Quality_-_Wastewater.csv\"\n",
    "to_path=\"/Qualidade_NYC/bronze/Watershed_Water_Quality_-_Wastewater.csv\"\n",
    "\n",
    "client.delete(to_path)\n",
    "client.upload(to_path,from_path)"
   ]
  },
  {
   "cell_type": "code",
   "execution_count": null,
   "id": "56cce455-53af-40dc-989c-dc37a857581b",
   "metadata": {},
   "outputs": [],
   "source": []
  }
 ],
 "metadata": {
  "kernelspec": {
   "display_name": "Python 3 (ipykernel)",
   "language": "python",
   "name": "python3"
  },
  "language_info": {
   "codemirror_mode": {
    "name": "ipython",
    "version": 3
   },
   "file_extension": ".py",
   "mimetype": "text/x-python",
   "name": "python",
   "nbconvert_exporter": "python",
   "pygments_lexer": "ipython3",
   "version": "3.10.6"
  }
 },
 "nbformat": 4,
 "nbformat_minor": 5
}
