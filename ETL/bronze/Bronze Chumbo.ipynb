{
 "cells": [
  {
   "cell_type": "code",
   "execution_count": 3,
   "id": "0bbcf31c-7d7f-4d2b-9b21-8f54ee32e243",
   "metadata": {},
   "outputs": [
    {
     "data": {
      "text/plain": [
       "'/Qualidade_NYC/bronze/Children_Under_6_yrs_with_Elevated_Blood_Lead_Levels__BLL_.csv'"
      ]
     },
     "execution_count": 3,
     "metadata": {},
     "output_type": "execute_result"
    }
   ],
   "source": [
    "from os import PathLike\n",
    "from hdfs import InsecureClient\n",
    "from pyspark.sql import SparkSession\n",
    "from pyspark.sql import Row\n",
    "from delta import *\n",
    "from pyspark.sql.types import LongType, StringType, DateType, FloatType, StructField, StructType, BooleanType, ArrayType, IntegerType\n",
    "\n",
    "client=InsecureClient(\"http://hdfs-nn:9870\", user=\"anonymous\")\n",
    "\n",
    "from_path= \"./Children_Under_6_yrs_with_Elevated_Blood_Lead_Levels__BLL_.csv\"\n",
    "to_path=\"/Qualidade_NYC/bronze/Children_Under_6_yrs_with_Elevated_Blood_Lead_Levels__BLL_.csv\"\n",
    "\n",
    "client.delete(to_path)\n",
    "client.upload(to_path,from_path)"
   ]
  },
  {
   "cell_type": "code",
   "execution_count": null,
   "id": "1aee0823-c270-4326-8d92-bb236302aed5",
   "metadata": {},
   "outputs": [],
   "source": []
  },
  {
   "cell_type": "code",
   "execution_count": null,
   "id": "ac307784-0ad4-498e-89cc-b4d783b0f9d3",
   "metadata": {},
   "outputs": [],
   "source": []
  }
 ],
 "metadata": {
  "kernelspec": {
   "display_name": "Python 3 (ipykernel)",
   "language": "python",
   "name": "python3"
  },
  "language_info": {
   "codemirror_mode": {
    "name": "ipython",
    "version": 3
   },
   "file_extension": ".py",
   "mimetype": "text/x-python",
   "name": "python",
   "nbconvert_exporter": "python",
   "pygments_lexer": "ipython3",
   "version": "3.10.6"
  }
 },
 "nbformat": 4,
 "nbformat_minor": 5
}
