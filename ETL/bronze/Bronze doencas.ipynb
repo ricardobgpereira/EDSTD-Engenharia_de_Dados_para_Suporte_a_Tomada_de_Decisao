{
 "cells": [
  {
   "cell_type": "code",
   "execution_count": 4,
   "id": "fbd74f96-b0b7-4920-a2c1-4aaf7151f990",
   "metadata": {},
   "outputs": [
    {
     "name": "stdout",
     "output_type": "stream",
     "text": [
      "Requirement already satisfied: hdfs in /opt/conda/lib/python3.10/site-packages (2.7.0)\n",
      "Requirement already satisfied: docopt in /opt/conda/lib/python3.10/site-packages (from hdfs) (0.6.2)\n",
      "Requirement already satisfied: requests>=2.7.0 in /opt/conda/lib/python3.10/site-packages (from hdfs) (2.28.1)\n",
      "Requirement already satisfied: six>=1.9.0 in /opt/conda/lib/python3.10/site-packages (from hdfs) (1.16.0)\n",
      "Requirement already satisfied: certifi>=2017.4.17 in /opt/conda/lib/python3.10/site-packages (from requests>=2.7.0->hdfs) (2022.9.24)\n",
      "Requirement already satisfied: idna<4,>=2.5 in /opt/conda/lib/python3.10/site-packages (from requests>=2.7.0->hdfs) (3.4)\n",
      "Requirement already satisfied: charset-normalizer<3,>=2 in /opt/conda/lib/python3.10/site-packages (from requests>=2.7.0->hdfs) (2.1.1)\n",
      "Requirement already satisfied: urllib3<1.27,>=1.21.1 in /opt/conda/lib/python3.10/site-packages (from requests>=2.7.0->hdfs) (1.26.11)\n"
     ]
    }
   ],
   "source": [
    "import sys\n",
    "!{sys.executable} -m pip install hdfs"
   ]
  },
  {
   "cell_type": "code",
   "execution_count": 2,
   "id": "cc1b6cee-3254-4863-8b03-9bc994ccdcd9",
   "metadata": {},
   "outputs": [
    {
     "data": {
      "text/plain": [
       "'/Qualidade_NYC/bronze/Community_Health_Lung_and_Bronchus_Cancer_Incidence_Rate_per_100_000_by_County_Map_Latest_Data.csv'"
      ]
     },
     "execution_count": 2,
     "metadata": {},
     "output_type": "execute_result"
    }
   ],
   "source": [
    "from os import PathLike\n",
    "from hdfs import InsecureClient\n",
    "from pyspark.sql import SparkSession\n",
    "from pyspark.sql import Row\n",
    "from delta import *\n",
    "from pyspark.sql.types import LongType, StringType, DateType, FloatType, StructField, StructType, BooleanType, ArrayType, IntegerType\n",
    "\n",
    "client=InsecureClient(\"http://hdfs-nn:9870\", user=\"anonymous\")\n",
    "\n",
    "from_path= \"./Community_Health__Lung_and_Bronchus_Cancer_Incidence_Rate_per_100_000_by_County_Map__Latest_Data.csv\"\n",
    "to_path=\"/Qualidade_NYC/bronze/Community_Health_Lung_and_Bronchus_Cancer_Incidence_Rate_per_100_000_by_County_Map_Latest_Data.csv\"\n",
    "\n",
    "client.delete(to_path)\n",
    "client.upload(to_path,from_path)\n"
   ]
  },
  {
   "cell_type": "code",
   "execution_count": null,
   "id": "efba068c-0521-4fea-9741-831fb9769793",
   "metadata": {},
   "outputs": [],
   "source": []
  },
  {
   "cell_type": "code",
   "execution_count": null,
   "id": "922d4aba-41b6-4c27-9b02-e4d330fe7fa5",
   "metadata": {},
   "outputs": [],
   "source": []
  }
 ],
 "metadata": {
  "kernelspec": {
   "display_name": "Python 3 (ipykernel)",
   "language": "python",
   "name": "python3"
  },
  "language_info": {
   "codemirror_mode": {
    "name": "ipython",
    "version": 3
   },
   "file_extension": ".py",
   "mimetype": "text/x-python",
   "name": "python",
   "nbconvert_exporter": "python",
   "pygments_lexer": "ipython3",
   "version": "3.10.6"
  }
 },
 "nbformat": 4,
 "nbformat_minor": 5
}
