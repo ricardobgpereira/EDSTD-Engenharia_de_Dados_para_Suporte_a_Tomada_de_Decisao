{
 "cells": [
  {
   "cell_type": "code",
   "execution_count": 1,
   "id": "52eb6e6c-6238-4adb-8eba-92f8e60a99e0",
   "metadata": {},
   "outputs": [
    {
     "data": {
      "text/plain": [
       "'/Qualidade_NYC/bronze/Recycling_Diversion_and_Capture_Rates.csv'"
      ]
     },
     "execution_count": 1,
     "metadata": {},
     "output_type": "execute_result"
    }
   ],
   "source": [
    "from os import PathLike\n",
    "from hdfs import InsecureClient\n",
    "from pyspark.sql import SparkSession\n",
    "from pyspark.sql import Row\n",
    "from delta import *\n",
    "from pyspark.sql.types import LongType, StringType, DateType, FloatType, StructField, StructType, BooleanType, ArrayType, IntegerType\n",
    "\n",
    "client=InsecureClient(\"http://hdfs-nn:9870\", user=\"anonymous\")\n",
    "\n",
    "from_path= \"./Recycling_Diversion_and_Capture_Rates.csv\"\n",
    "to_path=\"/Qualidade_NYC/bronze/Recycling_Diversion_and_Capture_Rates.csv\"\n",
    "\n",
    "client.delete(to_path)\n",
    "client.upload(to_path,from_path)"
   ]
  },
  {
   "cell_type": "code",
   "execution_count": null,
   "id": "59787b53-c4c2-4677-b539-2062ac8d0e4c",
   "metadata": {},
   "outputs": [],
   "source": []
  }
 ],
 "metadata": {
  "kernelspec": {
   "display_name": "Python 3 (ipykernel)",
   "language": "python",
   "name": "python3"
  },
  "language_info": {
   "codemirror_mode": {
    "name": "ipython",
    "version": 3
   },
   "file_extension": ".py",
   "mimetype": "text/x-python",
   "name": "python",
   "nbconvert_exporter": "python",
   "pygments_lexer": "ipython3",
   "version": "3.10.6"
  }
 },
 "nbformat": 4,
 "nbformat_minor": 5
}
