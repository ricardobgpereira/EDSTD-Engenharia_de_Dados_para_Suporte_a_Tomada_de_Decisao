{
 "cells": [
  {
   "cell_type": "code",
   "execution_count": 1,
   "id": "4209f976-3b86-4336-802e-c3374f042bc5",
   "metadata": {},
   "outputs": [
    {
     "name": "stdout",
     "output_type": "stream",
     "text": [
      "Requirement already satisfied: delta-spark in /opt/conda/lib/python3.10/site-packages (2.1.0)\n",
      "Requirement already satisfied: pyspark<3.4.0,>=3.3.0 in /usr/local/spark-3.3.0-bin-hadoop3/python (from delta-spark) (3.3.0)\n",
      "Requirement already satisfied: importlib-metadata>=1.0.0 in /opt/conda/lib/python3.10/site-packages (from delta-spark) (4.11.4)\n",
      "Requirement already satisfied: zipp>=0.5 in /opt/conda/lib/python3.10/site-packages (from importlib-metadata>=1.0.0->delta-spark) (3.8.1)\n",
      "Requirement already satisfied: py4j==0.10.9.5 in /opt/conda/lib/python3.10/site-packages (from pyspark<3.4.0,>=3.3.0->delta-spark) (0.10.9.5)\n",
      "Note: you may need to restart the kernel to use updated packages.\n"
     ]
    }
   ],
   "source": [
    " pip install delta-spark"
   ]
  },
  {
   "cell_type": "code",
   "execution_count": 2,
   "id": "82c8228f-6af5-4ee9-ba09-39705435936d",
   "metadata": {},
   "outputs": [],
   "source": [
    "from os import PathLike\n",
    "from hdfs import InsecureClient\n",
    "from pyspark.sql import SparkSession\n",
    "from pyspark.sql import Row\n",
    "from delta import *\n",
    "from pyspark.sql.types import *\n",
    "from pyspark.sql.functions import *\n",
    "\n",
    "# warehouse_location points to the default location for managed databases and tables\n",
    "warehouse_location = 'hdfs://hdfs-nn:9000/Qualidade_NYC/silver'\n",
    "\n",
    "builder = SparkSession \\\n",
    "    .builder \\\n",
    "    .master(\"local[2]\") \\\n",
    "    .appName(\"Python Spark DataFrames and SQL\") \\\n",
    "    .config(\"spark.sql.warehouse.dir\", warehouse_location) \\\n",
    "    .config(\"hive.metastore.uris\", \"thrift://hive-metastore:9083\") \\\n",
    "    .config(\"spark.sql.extensions\", \"io.delta.sql.DeltaSparkSessionExtension\") \\\n",
    "    .config(\"spark.sql.catalog.spark_catalog\", \"org.apache.spark.sql.delta.catalog.DeltaCatalog\") \\\n",
    "    .config(\"spark.jars.packages\", \"io.delta:delta-core_2.12:1.0.0\") \\\n",
    "    .enableHiveSupport() \\\n",
    "\n",
    "spark = configure_spark_with_delta_pip(builder).getOrCreate()"
   ]
  },
  {
   "cell_type": "code",
   "execution_count": 3,
   "id": "0d781c75-3872-4560-830f-dcabff30d161",
   "metadata": {},
   "outputs": [
    {
     "ename": "AnalysisException",
     "evalue": "Namespace 'Projeto' already exists",
     "output_type": "error",
     "traceback": [
      "\u001b[0;31m---------------------------------------------------------------------------\u001b[0m",
      "\u001b[0;31mAnalysisException\u001b[0m                         Traceback (most recent call last)",
      "Cell \u001b[0;32mIn [3], line 1\u001b[0m\n\u001b[0;32m----> 1\u001b[0m spark\u001b[38;5;241m.\u001b[39msql(\n\u001b[1;32m      2\u001b[0m     \u001b[38;5;124;03m\"\"\"\u001b[39;00m\n\u001b[1;32m      3\u001b[0m \u001b[38;5;124;03m    create database Projeto location 'hdfs://hdfs-nn:9000/Qualidade_NYC/silver/Projeto.db'\u001b[39;00m\n\u001b[1;32m      4\u001b[0m \u001b[38;5;124;03m    \"\"\"\u001b[39;00m\n\u001b[1;32m      5\u001b[0m )\n",
      "File \u001b[0;32m/usr/local/spark/python/pyspark/sql/session.py:1034\u001b[0m, in \u001b[0;36mSparkSession.sql\u001b[0;34m(self, sqlQuery, **kwargs)\u001b[0m\n\u001b[1;32m   1032\u001b[0m     sqlQuery \u001b[38;5;241m=\u001b[39m formatter\u001b[38;5;241m.\u001b[39mformat(sqlQuery, \u001b[38;5;241m*\u001b[39m\u001b[38;5;241m*\u001b[39mkwargs)\n\u001b[1;32m   1033\u001b[0m \u001b[38;5;28;01mtry\u001b[39;00m:\n\u001b[0;32m-> 1034\u001b[0m     \u001b[38;5;28;01mreturn\u001b[39;00m DataFrame(\u001b[38;5;28;43mself\u001b[39;49m\u001b[38;5;241;43m.\u001b[39;49m\u001b[43m_jsparkSession\u001b[49m\u001b[38;5;241;43m.\u001b[39;49m\u001b[43msql\u001b[49m\u001b[43m(\u001b[49m\u001b[43msqlQuery\u001b[49m\u001b[43m)\u001b[49m, \u001b[38;5;28mself\u001b[39m)\n\u001b[1;32m   1035\u001b[0m \u001b[38;5;28;01mfinally\u001b[39;00m:\n\u001b[1;32m   1036\u001b[0m     \u001b[38;5;28;01mif\u001b[39;00m \u001b[38;5;28mlen\u001b[39m(kwargs) \u001b[38;5;241m>\u001b[39m \u001b[38;5;241m0\u001b[39m:\n",
      "File \u001b[0;32m/usr/local/spark/python/lib/py4j-0.10.9.5-src.zip/py4j/java_gateway.py:1321\u001b[0m, in \u001b[0;36mJavaMember.__call__\u001b[0;34m(self, *args)\u001b[0m\n\u001b[1;32m   1315\u001b[0m command \u001b[38;5;241m=\u001b[39m proto\u001b[38;5;241m.\u001b[39mCALL_COMMAND_NAME \u001b[38;5;241m+\u001b[39m\\\n\u001b[1;32m   1316\u001b[0m     \u001b[38;5;28mself\u001b[39m\u001b[38;5;241m.\u001b[39mcommand_header \u001b[38;5;241m+\u001b[39m\\\n\u001b[1;32m   1317\u001b[0m     args_command \u001b[38;5;241m+\u001b[39m\\\n\u001b[1;32m   1318\u001b[0m     proto\u001b[38;5;241m.\u001b[39mEND_COMMAND_PART\n\u001b[1;32m   1320\u001b[0m answer \u001b[38;5;241m=\u001b[39m \u001b[38;5;28mself\u001b[39m\u001b[38;5;241m.\u001b[39mgateway_client\u001b[38;5;241m.\u001b[39msend_command(command)\n\u001b[0;32m-> 1321\u001b[0m return_value \u001b[38;5;241m=\u001b[39m \u001b[43mget_return_value\u001b[49m\u001b[43m(\u001b[49m\n\u001b[1;32m   1322\u001b[0m \u001b[43m    \u001b[49m\u001b[43manswer\u001b[49m\u001b[43m,\u001b[49m\u001b[43m \u001b[49m\u001b[38;5;28;43mself\u001b[39;49m\u001b[38;5;241;43m.\u001b[39;49m\u001b[43mgateway_client\u001b[49m\u001b[43m,\u001b[49m\u001b[43m \u001b[49m\u001b[38;5;28;43mself\u001b[39;49m\u001b[38;5;241;43m.\u001b[39;49m\u001b[43mtarget_id\u001b[49m\u001b[43m,\u001b[49m\u001b[43m \u001b[49m\u001b[38;5;28;43mself\u001b[39;49m\u001b[38;5;241;43m.\u001b[39;49m\u001b[43mname\u001b[49m\u001b[43m)\u001b[49m\n\u001b[1;32m   1324\u001b[0m \u001b[38;5;28;01mfor\u001b[39;00m temp_arg \u001b[38;5;129;01min\u001b[39;00m temp_args:\n\u001b[1;32m   1325\u001b[0m     temp_arg\u001b[38;5;241m.\u001b[39m_detach()\n",
      "File \u001b[0;32m/usr/local/spark/python/pyspark/sql/utils.py:196\u001b[0m, in \u001b[0;36mcapture_sql_exception.<locals>.deco\u001b[0;34m(*a, **kw)\u001b[0m\n\u001b[1;32m    192\u001b[0m converted \u001b[38;5;241m=\u001b[39m convert_exception(e\u001b[38;5;241m.\u001b[39mjava_exception)\n\u001b[1;32m    193\u001b[0m \u001b[38;5;28;01mif\u001b[39;00m \u001b[38;5;129;01mnot\u001b[39;00m \u001b[38;5;28misinstance\u001b[39m(converted, UnknownException):\n\u001b[1;32m    194\u001b[0m     \u001b[38;5;66;03m# Hide where the exception came from that shows a non-Pythonic\u001b[39;00m\n\u001b[1;32m    195\u001b[0m     \u001b[38;5;66;03m# JVM exception message.\u001b[39;00m\n\u001b[0;32m--> 196\u001b[0m     \u001b[38;5;28;01mraise\u001b[39;00m converted \u001b[38;5;28;01mfrom\u001b[39;00m \u001b[38;5;28mNone\u001b[39m\n\u001b[1;32m    197\u001b[0m \u001b[38;5;28;01melse\u001b[39;00m:\n\u001b[1;32m    198\u001b[0m     \u001b[38;5;28;01mraise\u001b[39;00m\n",
      "\u001b[0;31mAnalysisException\u001b[0m: Namespace 'Projeto' already exists"
     ]
    }
   ],
   "source": [
    "spark.sql(\n",
    "    \"\"\"\n",
    "    create database Projeto location 'hdfs://hdfs-nn:9000/Qualidade_NYC/silver/Projeto.db'\n",
    "    \"\"\"\n",
    ")\n"
   ]
  },
  {
   "cell_type": "code",
   "execution_count": null,
   "id": "b7d05c14-02c4-402d-8034-3dd3d11db667",
   "metadata": {},
   "outputs": [],
   "source": [
    "#spark.sql(\n",
    "#   \"\"\"\n",
    "#   DROP DATABASE IF EXISTS Trabalho CASCADE\n",
    "#   \"\"\"\n",
    "#)\n",
    "\n",
    "spark.sql(\n",
    "    \"\"\"\n",
    "    DROP TABLE IF EXISTS Trabalho.Doencas\n",
    "    \"\"\"\n",
    ")"
   ]
  },
  {
   "cell_type": "code",
   "execution_count": null,
   "id": "ade73ae9-8e95-4fff-869a-3a083589f91a",
   "metadata": {},
   "outputs": [],
   "source": [
    "hdfs_path = \"hdfs://hdfs-nn:9000/Qualidade_NYC/bronze/Community_Health_Lung_and_Bronchus_Cancer_Incidence_Rate_per_100_000_by_County_Map_Latest_Data.csv\"\n",
    "\n",
    "customSchema = StructType([\n",
    "    StructField(\"County Name\", StringType(), True),\n",
    "    StructField(\"Health Topic Number\", IntegerType(), True),\n",
    "    StructField(\"Health Topic\", StringType(), True),\n",
    "    StructField(\"Indicator Number\", StringType(), True),\n",
    "    StructField(\"Indicator\", StringType(), True),\n",
    "    StructField(\"Event Count\", IntegerType(), True),\n",
    "    StructField(\"Average Number of Denominator\", IntegerType(), True),\n",
    "    StructField(\"Measure Unit\", StringType(), True),\n",
    "    StructField(\"Percent/Rate\", FloatType(), True),\n",
    "    StructField(\"Lower Limit of 95% CI\", FloatType(), True), \n",
    "    StructField(\"Upper Limit of 95% CI\", FloatType(), True),\n",
    "    StructField(\"Data Comments\", StringType(), True),\n",
    "    StructField(\"Quartile\", StringType(), True),\n",
    "    StructField(\"Data Years\", StringType(), True),\n",
    "    StructField(\"Data Source\", StringType(), True),\n",
    "    StructField(\"Mapping Distribution\", IntegerType(), True),\n",
    "    StructField(\"Location\", StringType(), True)\n",
    "])\n",
    "doencas = spark \\\n",
    "            .read\\\n",
    "            .option(\"delimiter\",\",\")\\\n",
    "            .option(\"header\",\"true\")\\\n",
    "            .schema(customSchema) \\\n",
    "            .csv(hdfs_path)\n",
    "doencas.show()\n",
    "doencas.printSchema()"
   ]
  },
  {
   "cell_type": "code",
   "execution_count": null,
   "id": "16c0b3d8-ed81-4428-9bf5-65e68f878f4c",
   "metadata": {},
   "outputs": [],
   "source": [
    "replaced_doencas = doencas.drop(\"Lower Limit of 95% CI\", \"Upper Limit of 95% CI\", \"Data Comments\" )\n",
    "replaced_doencas.toPandas()"
   ]
  },
  {
   "cell_type": "code",
   "execution_count": null,
   "id": "46d230df-1de4-4808-89c1-bd490db8bbc2",
   "metadata": {},
   "outputs": [],
   "source": [
    "NewColumns=(column.replace(' ','_') for column in replaced_doencas.columns)\n",
    "replaced_doencas2 = replaced_doencas.toDF(*NewColumns)\n",
    "\n",
    "replaced_doencas3 = replaced_doencas2.withColumnRenamed(\"Percent/Rate\",\"Percent_Rate\") \n",
    "replaced_doencas3.toPandas()"
   ]
  },
  {
   "cell_type": "code",
   "execution_count": null,
   "id": "a1391dfb-9793-4c40-98cd-5a457530cb0f",
   "metadata": {},
   "outputs": [],
   "source": [
    "spark.sql(\n",
    "    \"\"\"\n",
    "    CREATE EXTERNAL TABLE Trabalho.Doencas (\n",
    "        County_Name STRING,\n",
    "        Health_Topic_Number INT,\n",
    "        Health_Topic STRING,\n",
    "        Indicator_Number STRING,\n",
    "        Indicator STRING,\n",
    "        Event_Count INT,\n",
    "        Average_Number_of_Denominator INT,\n",
    "        Measure_Unit STRING,\n",
    "        Percent_Rate FLOAT,\n",
    "        Quartile STRING,\n",
    "        Data_Years STRING,\n",
    "        Data_Source STRING,\n",
    "        Mapping_Distribution INT,\n",
    "        Location STRING    \n",
    "    )\n",
    "    USING DELTA\n",
    "    LOCATION 'hdfs://hdfs-nn:9000/Qualidade_NYC/silver/Projeto.db/Doencas'\n",
    "    \"\"\"\n",
    ")"
   ]
  },
  {
   "cell_type": "code",
   "execution_count": null,
   "id": "e3229cb4-9175-4ce0-b745-ec471f6339a9",
   "metadata": {},
   "outputs": [],
   "source": [
    "#write df to hive deltalake_table\n",
    "replaced_doencas3\\\n",
    "    .select(\"County_Name\",\"Health_Topic_Number\",\"Health_Topic\",\"Indicator_Number\",\"Indicator\",\"Event_Count\",\n",
    "            \"Average_Number_of_Denominator\",\"Measure_Unit\",\"Percent_Rate\",\"Quartile\",\"Data_Years\",\"Data_Source\",\n",
    "            \"Mapping_Distribution\",\"Location\") \\\n",
    "    .write \\\n",
    "    .mode(\"overwrite\") \\\n",
    "    .format(\"delta\") \\\n",
    "    .save(\"hdfs://hdfs-nn:9000/Qualidade_NYC/silver/Projeto.db/Doencas/\")\n",
    "from pyspark.sql.types import *"
   ]
  },
  {
   "cell_type": "code",
   "execution_count": null,
   "id": "50d71b0e-9562-4072-b639-ee669455273f",
   "metadata": {},
   "outputs": [],
   "source": [
    "spark.sql(\"USE Trabalho\")\n",
    "spark.sql(\"SHOW tables\").show()"
   ]
  },
  {
   "cell_type": "code",
   "execution_count": null,
   "id": "b3c8793d-7da8-484b-af8e-e2c6d07f43cb",
   "metadata": {},
   "outputs": [],
   "source": []
  }
 ],
 "metadata": {
  "kernelspec": {
   "display_name": "Python 3 (ipykernel)",
   "language": "python",
   "name": "python3"
  },
  "language_info": {
   "codemirror_mode": {
    "name": "ipython",
    "version": 3
   },
   "file_extension": ".py",
   "mimetype": "text/x-python",
   "name": "python",
   "nbconvert_exporter": "python",
   "pygments_lexer": "ipython3",
   "version": "3.10.6"
  }
 },
 "nbformat": 4,
 "nbformat_minor": 5
}
