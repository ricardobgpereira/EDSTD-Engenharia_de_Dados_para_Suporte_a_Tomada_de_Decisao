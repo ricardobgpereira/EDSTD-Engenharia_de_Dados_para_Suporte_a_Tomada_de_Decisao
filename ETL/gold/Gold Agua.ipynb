{
 "cells": [
  {
   "cell_type": "code",
   "execution_count": 1,
   "id": "3e000cf2-a08f-4463-a9a5-557bd541fe60",
   "metadata": {},
   "outputs": [],
   "source": [
    "from os import PathLike\n",
    "from hdfs import InsecureClient\n",
    "from pyspark.sql import SparkSession\n",
    "from pyspark.sql import Row\n",
    "from delta import *\n",
    "from pyspark.sql.types import *\n",
    "from pyspark.sql.functions import *\n",
    "\n",
    "# warehouse_location points to the default location for managed databases and tables\n",
    "warehouse_location = 'hdfs://hdfs-nn:9000/Qualidade_NYC/silver'\n",
    "\n",
    "builder = SparkSession \\\n",
    "    .builder \\\n",
    "    .master(\"local[2]\") \\\n",
    "    .appName(\"Python Spark DataFrames and SQL\") \\\n",
    "    .config(\"spark.sql.warehouse.dir\", warehouse_location) \\\n",
    "    .config(\"hive.metastore.uris\", \"thrift://hive-metastore:9083\") \\\n",
    "    .config(\"spark.sql.extensions\", \"io.delta.sql.DeltaSparkSessionExtension\") \\\n",
    "    .config(\"spark.sql.catalog.spark_catalog\", \"org.apache.spark.sql.delta.catalog.DeltaCatalog\") \\\n",
    "    .config(\"spark.jars.packages\", \"io.delta:delta-core_2.12:1.0.0\") \\\n",
    "    .enableHiveSupport() \\\n",
    "\n",
    "spark = configure_spark_with_delta_pip(builder).getOrCreate()"
   ]
  },
  {
   "cell_type": "code",
   "execution_count": 5,
   "id": "730a612e-3750-404b-b184-4697c588fd7e",
   "metadata": {},
   "outputs": [
    {
     "data": {
      "text/plain": [
       "DataFrame[]"
      ]
     },
     "execution_count": 5,
     "metadata": {},
     "output_type": "execute_result"
    }
   ],
   "source": [
    "# create gold database\n",
    "spark.sql(\n",
    "    \"\"\"\n",
    "    CREATE DATABASE IF NOT EXISTS gold_projeto LOCATION 'hdfs://hdfs-nn:9000/Qualidade_NYC/gold/gold_projeto.db/'\n",
    "    \"\"\"\n",
    ")\n",
    "\n",
    "# create sales_per_country table in gold\n",
    "spark.sql(\n",
    "    \"\"\"\n",
    "    DROP TABLE IF EXISTS gold_projeto.waterDF\n",
    "    \"\"\"\n",
    ")\n",
    "\n"
   ]
  },
  {
   "cell_type": "code",
   "execution_count": 2,
   "id": "c6351b63-8329-4b5e-a75b-3af4b809f220",
   "metadata": {},
   "outputs": [
    {
     "data": {
      "text/plain": [
       "DataFrame[]"
      ]
     },
     "execution_count": 2,
     "metadata": {},
     "output_type": "execute_result"
    }
   ],
   "source": [
    "spark.sql(\n",
    "    \"\"\"\n",
    "    CREATE EXTERNAL TABLE Trabalho.gold_WaterQuality (\n",
    "        Site STRING,\n",
    "        Date STRING,\n",
    "        Analyte STRING,\n",
    "        Status STRING,\n",
    "        Final_Result STRING,\n",
    "        Units STRING,\n",
    "        WTP_Group STRING,\n",
    "        Year INT\n",
    "    )\n",
    "    USING DELTA\n",
    "    \n",
    "    LOCATION 'hdfs://hdfs-nn:9000/Qualidade_NYC/gold/Projeto.db/gold_WaterQuality/'\n",
    "    \"\"\"\n",
    ")"
   ]
  },
  {
   "cell_type": "code",
   "execution_count": 5,
   "id": "55085ffd-cfb6-415d-92a7-a98351d190fb",
   "metadata": {},
   "outputs": [
    {
     "name": "stdout",
     "output_type": "stream",
     "text": [
      "+---------+--------------------+----------+-----+--------------------+------+------------+---------+---------------------+--------------------+------------+----+\n",
      "|Sample_Id|                Site|      Date| Time|             Analyte|Status|Final_Result|    Units|Water_Treatment_Plant|           WTP_Group|SPDES_Number|Year|\n",
      "+---------+--------------------+----------+-----+--------------------+------+------------+---------+---------------------+--------------------+------------+----+\n",
      "|  D-96685|                PRHE|04/07/1998| 8:58|                 BOD|  null|         8.2|     mg/L|             Pepacton|      Non-City Owned|        null|1998|\n",
      "|  D-96744|                PRHE|05/05/1998| 9:05|                  pH|  null|         6.1|     null|             Pepacton|      Non-City Owned|        null|1998|\n",
      "|  B-21216|BEDFORD MIDDLE SC...|01/02/1998| 9:28|Solids, Total Sus...|  null|          <2|     mg/L|                 null|      Non-City Owned|   NY0105741|1998|\n",
      "|  B-21222|     MAHOPAC STP EFF|01/02/1998|11:00|Solids, Total Sus...|  null|         1.4|     mg/L|          Mahopac STP|City Owned - Effl...|   NY0026590|1998|\n",
      "|  B-21216|BEDFORD MIDDLE SC...|01/02/1998| 9:28|                  pH|  null|        6.43|     null|                 null|      Non-City Owned|   NY0105741|1998|\n",
      "|  B-21220|    BREWSTER STP EFF|01/02/1998|10:48|                  pH|  null|        6.92|     null|        Brewster WWTP|      Non-City Owned|        null|1998|\n",
      "|  B-21216|BEDFORD MIDDLE SC...|01/02/1998| 9:28|  Solids, Settleable|  null|        <0.1|     mL/L|                 null|      Non-City Owned|   NY0105741|1998|\n",
      "|  B-21220|    BREWSTER STP EFF|01/02/1998|10:48|  Solids, Settleable|  null|        <0.1|     mL/L|        Brewster WWTP|      Non-City Owned|        null|1998|\n",
      "|  B-21216|BEDFORD MIDDLE SC...|01/02/1998| 9:28|         Temperature|  null|         7.5|        C|                 null|      Non-City Owned|   NY0105741|1998|\n",
      "|  B-21220|    BREWSTER STP EFF|01/02/1998|10:48|         Temperature|  null|         6.6|        C|        Brewster WWTP|      Non-City Owned|        null|1998|\n",
      "|  B-21216|BEDFORD MIDDLE SC...|01/02/1998| 9:28|Chlorine Residual...|  null|      100%UV|     mg/L|                 null|      Non-City Owned|   NY0105741|1998|\n",
      "|  B-21220|    BREWSTER STP EFF|01/02/1998|10:48|Chlorine Residual...|  null|         0.8|     mg/L|        Brewster WWTP|      Non-City Owned|        null|1998|\n",
      "|  B-21222|     MAHOPAC STP EFF|01/02/1998|11:00|    Ammonia (as NH3)|  null|        0.05|     mg/L|          Mahopac STP|City Owned - Effl...|   NY0026590|1998|\n",
      "|  B-21216|BEDFORD MIDDLE SC...|01/02/1998| 9:28|     Coliform, Total|  null|         <10|CFU/100mL|                 null|      Non-City Owned|   NY0105741|1998|\n",
      "|  B-21220|    BREWSTER STP EFF|01/02/1998|10:48|     Coliform, Total|  null|        <500|CFU/100mL|        Brewster WWTP|      Non-City Owned|        null|1998|\n",
      "|  B-21216|BEDFORD MIDDLE SC...|01/02/1998| 9:28|     Coliform, Fecal|  null|          <4|CFU/100mL|                 null|      Non-City Owned|   NY0105741|1998|\n",
      "|  B-21220|    BREWSTER STP EFF|01/02/1998|10:48|     Coliform, Fecal|  null|         <50|CFU/100mL|        Brewster WWTP|      Non-City Owned|        null|1998|\n",
      "|  B-21222|     MAHOPAC STP EFF|01/02/1998|11:00|Nitrate/Nitrite (...|  null|        8.46|     mg/L|          Mahopac STP|City Owned - Effl...|   NY0026590|1998|\n",
      "|  B-21216|BEDFORD MIDDLE SC...|01/02/1998| 9:28|Phosphorus, Total...|  null|        1390|     µg/L|                 null|      Non-City Owned|   NY0105741|1998|\n",
      "|  B-21222|     MAHOPAC STP EFF|01/02/1998|11:00|Phosphorus, Total...|  null|          70|     µg/L|          Mahopac STP|City Owned - Effl...|   NY0026590|1998|\n",
      "+---------+--------------------+----------+-----+--------------------+------+------------+---------+---------------------+--------------------+------------+----+\n",
      "only showing top 20 rows\n",
      "\n",
      "root\n",
      " |-- Sample_Id: string (nullable = true)\n",
      " |-- Site: string (nullable = true)\n",
      " |-- Date: string (nullable = true)\n",
      " |-- Time: string (nullable = true)\n",
      " |-- Analyte: string (nullable = true)\n",
      " |-- Status: string (nullable = true)\n",
      " |-- Final_Result: string (nullable = true)\n",
      " |-- Units: string (nullable = true)\n",
      " |-- Water_Treatment_Plant: string (nullable = true)\n",
      " |-- WTP_Group: string (nullable = true)\n",
      " |-- SPDES_Number: string (nullable = true)\n",
      " |-- Year: integer (nullable = true)\n",
      "\n"
     ]
    }
   ],
   "source": [
    "from pyspark.sql.functions import substring, avg, sum\n",
    "\n",
    "# read AirQuality from the silver tables\n",
    "hdfs_path = \"hdfs://hdfs-nn:9000/Qualidade_NYC/silver/Projeto.db/Qualidade_Agua/\"\n",
    "\n",
    "gold_WaterQuality = spark\\\n",
    "          .read\\\n",
    "          .load(hdfs_path)\n",
    "\n",
    "gold_WaterQuality.show()\n",
    "gold_WaterQuality.printSchema()"
   ]
  },
  {
   "cell_type": "code",
   "execution_count": 6,
   "id": "8a577eee-d176-450c-b154-7f8e06202716",
   "metadata": {},
   "outputs": [
    {
     "name": "stdout",
     "output_type": "stream",
     "text": [
      "+--------------------+-----+\n",
      "|                Site|count|\n",
      "+--------------------+-----+\n",
      "|ERSSG PRE SUBSURF...|    6|\n",
      "|     EDTO Hydro Sump|   18|\n",
      "|            SNOWTIME| 1737|\n",
      "|     PRATTSVILLE WTP|  639|\n",
      "|   THOMPSON HOUSE CC|   11|\n",
      "|                 STE| 4606|\n",
      "|          CARMEL STP| 6630|\n",
      "|             SEK-T10|  185|\n",
      "|        BREWSTER STP| 2332|\n",
      "|      Boiceville WTP| 2040|\n",
      "|                 EPE| 4654|\n",
      "|HUNTER HIGHLANDS RAW|  122|\n",
      "|                  TB|   98|\n",
      "|                SKTP| 5213|\n",
      "|MAHOPAC ELEMENTAR...| 4346|\n",
      "|BEDFORD PARK APAR...| 5774|\n",
      "|    BATAVIA KILL REC|  187|\n",
      "|          LAKE SECOR| 5927|\n",
      "|                STEG| 2338|\n",
      "|                STLG|  101|\n",
      "+--------------------+-----+\n",
      "only showing top 20 rows\n",
      "\n"
     ]
    }
   ],
   "source": [
    "#group by name, geo place name\n",
    "from pyspark.sql.functions import sum,avg,max,count\n",
    "gold = gold_WaterQuality.groupBy(\"Site\").count()\\\n",
    "    .show()"
   ]
  },
  {
   "cell_type": "code",
   "execution_count": 7,
   "id": "3a74af36-db28-4edc-9cef-cd690781b626",
   "metadata": {},
   "outputs": [],
   "source": [
    "# write to delta table\n",
    "waterDF \\\n",
    "    .select(\"Site\",\"Date\",\"Analyte\",\"Status\",\"Final_Result\",\"Units\",\"WTP_Group\",\"Year\") \\\n",
    "    .write \\\n",
    "    .format(\"delta\") \\\n",
    "    .mode(\"overwrite\") \\\n",
    "    .save(\"hdfs://hdfs-nn:9000/Qualidade_NYC/gold/Projeto.db/gold_WaterQuality/\")"
   ]
  },
  {
   "cell_type": "code",
   "execution_count": 8,
   "id": "e348d493-143c-4f87-8900-109a007b9b99",
   "metadata": {},
   "outputs": [
    {
     "name": "stdout",
     "output_type": "stream",
     "text": [
      "+--------------------+----------+--------------------+------+------------+---------+--------------------+----+\n",
      "|                Site|      Date|             Analyte|Status|Final_Result|    Units|           WTP_Group|Year|\n",
      "+--------------------+----------+--------------------+------+------------+---------+--------------------+----+\n",
      "|                PRHE|04/07/1998|                 BOD|  null|         8.2|     mg/L|      Non-City Owned|1998|\n",
      "|                PRHE|05/05/1998|                  pH|  null|         6.1|     null|      Non-City Owned|1998|\n",
      "|BEDFORD MIDDLE SC...|01/02/1998|Solids, Total Sus...|  null|          <2|     mg/L|      Non-City Owned|1998|\n",
      "|     MAHOPAC STP EFF|01/02/1998|Solids, Total Sus...|  null|         1.4|     mg/L|City Owned - Effl...|1998|\n",
      "|BEDFORD MIDDLE SC...|01/02/1998|                  pH|  null|        6.43|     null|      Non-City Owned|1998|\n",
      "|    BREWSTER STP EFF|01/02/1998|                  pH|  null|        6.92|     null|      Non-City Owned|1998|\n",
      "|BEDFORD MIDDLE SC...|01/02/1998|  Solids, Settleable|  null|        <0.1|     mL/L|      Non-City Owned|1998|\n",
      "|    BREWSTER STP EFF|01/02/1998|  Solids, Settleable|  null|        <0.1|     mL/L|      Non-City Owned|1998|\n",
      "|BEDFORD MIDDLE SC...|01/02/1998|         Temperature|  null|         7.5|        C|      Non-City Owned|1998|\n",
      "|    BREWSTER STP EFF|01/02/1998|         Temperature|  null|         6.6|        C|      Non-City Owned|1998|\n",
      "|BEDFORD MIDDLE SC...|01/02/1998|Chlorine Residual...|  null|      100%UV|     mg/L|      Non-City Owned|1998|\n",
      "|    BREWSTER STP EFF|01/02/1998|Chlorine Residual...|  null|         0.8|     mg/L|      Non-City Owned|1998|\n",
      "|     MAHOPAC STP EFF|01/02/1998|    Ammonia (as NH3)|  null|        0.05|     mg/L|City Owned - Effl...|1998|\n",
      "|BEDFORD MIDDLE SC...|01/02/1998|     Coliform, Total|  null|         <10|CFU/100mL|      Non-City Owned|1998|\n",
      "|    BREWSTER STP EFF|01/02/1998|     Coliform, Total|  null|        <500|CFU/100mL|      Non-City Owned|1998|\n",
      "|BEDFORD MIDDLE SC...|01/02/1998|     Coliform, Fecal|  null|          <4|CFU/100mL|      Non-City Owned|1998|\n",
      "|    BREWSTER STP EFF|01/02/1998|     Coliform, Fecal|  null|         <50|CFU/100mL|      Non-City Owned|1998|\n",
      "|     MAHOPAC STP EFF|01/02/1998|Nitrate/Nitrite (...|  null|        8.46|     mg/L|City Owned - Effl...|1998|\n",
      "|BEDFORD MIDDLE SC...|01/02/1998|Phosphorus, Total...|  null|        1390|     µg/L|      Non-City Owned|1998|\n",
      "|     MAHOPAC STP EFF|01/02/1998|Phosphorus, Total...|  null|          70|     µg/L|City Owned - Effl...|1998|\n",
      "+--------------------+----------+--------------------+------+------------+---------+--------------------+----+\n",
      "only showing top 20 rows\n",
      "\n"
     ]
    },
    {
     "data": {
      "text/plain": [
       "619602"
      ]
     },
     "execution_count": 8,
     "metadata": {},
     "output_type": "execute_result"
    }
   ],
   "source": [
    "# check the results in the table\n",
    "spark.table(\"Trabalho.gold_WaterQuality\").show()\n",
    "spark.table(\"Trabalho.gold_WaterQuality\").count()"
   ]
  },
  {
   "cell_type": "code",
   "execution_count": 9,
   "id": "ba3be6f4-55b1-487f-9c1e-958c33fb8253",
   "metadata": {},
   "outputs": [
    {
     "name": "stdout",
     "output_type": "stream",
     "text": [
      "++\n",
      "||\n",
      "++\n",
      "++\n",
      "\n"
     ]
    }
   ],
   "source": [
    "spark.sql(\"\"\"\n",
    "GENERATE symlink_format_manifest FOR TABLE delta.`hdfs://hdfs-nn:9000/Qualidade_NYC/gold/Projeto.db/gold_WaterQuality/`\n",
    "\"\"\").show()"
   ]
  },
  {
   "cell_type": "code",
   "execution_count": 14,
   "id": "3c9a9ca1-774c-41db-87a1-1669f0f0b15f",
   "metadata": {},
   "outputs": [
    {
     "name": "stdout",
     "output_type": "stream",
     "text": [
      "++\n",
      "||\n",
      "++\n",
      "++\n",
      "\n"
     ]
    }
   ],
   "source": [
    "spark.sql(\"\"\"\n",
    "DROP TABLE IF EXISTS Trabalho.gold_WaterQuality_presto \n",
    "\"\"\").show()"
   ]
  },
  {
   "cell_type": "code",
   "execution_count": 15,
   "id": "d19afd78-0dd3-429a-97ca-be01d64dc33a",
   "metadata": {},
   "outputs": [
    {
     "name": "stdout",
     "output_type": "stream",
     "text": [
      "++\n",
      "||\n",
      "++\n",
      "++\n",
      "\n"
     ]
    }
   ],
   "source": [
    "spark.sql(\"\"\"\n",
    "    CREATE EXTERNAL TABLE Trabalho.gold_WaterQuality_presto (\n",
    "        Sample_Id VARCHAR(50),\n",
    "        Site VARCHAR(50),\n",
    "        Date VARCHAR(50),\n",
    "        Time VARCHAR(50),\n",
    "        Analyte VARCHAR(50),\n",
    "        Status VARCHAR(50),\n",
    "        Final_Result VARCHAR(50),\n",
    "        Units VARCHAR(50),\n",
    "        Water_Treatment_Plant VARCHAR(50),\n",
    "        WTP_Group VARCHAR(50),\n",
    "        SPDES_Number VARCHAR(50),\n",
    "        Year INT\n",
    "\n",
    "    )\n",
    "ROW FORMAT SERDE 'org.apache.hadoop.hive.ql.io.parquet.serde.ParquetHiveSerDe'\n",
    "STORED AS INPUTFORMAT 'org.apache.hadoop.hive.ql.io.SymlinkTextInputFormat'\n",
    "OUTPUTFORMAT 'org.apache.hadoop.hive.ql.io.HiveIgnoreKeyTextOutputFormat'\n",
    "LOCATION 'hdfs://hdfs-nn:9000/Qualidade_NYC/gold/Projeto.db/gold_WaterQuality/_symlink_format_manifest'\n",
    "\"\"\").show()"
   ]
  },
  {
   "cell_type": "code",
   "execution_count": null,
   "id": "cdd0e902-93c9-47da-8c22-f9154450b700",
   "metadata": {},
   "outputs": [],
   "source": []
  }
 ],
 "metadata": {
  "kernelspec": {
   "display_name": "Python 3 (ipykernel)",
   "language": "python",
   "name": "python3"
  },
  "language_info": {
   "codemirror_mode": {
    "name": "ipython",
    "version": 3
   },
   "file_extension": ".py",
   "mimetype": "text/x-python",
   "name": "python",
   "nbconvert_exporter": "python",
   "pygments_lexer": "ipython3",
   "version": "3.10.6"
  }
 },
 "nbformat": 4,
 "nbformat_minor": 5
}
