{
 "cells": [
  {
   "cell_type": "code",
   "execution_count": 68,
   "id": "cd8c17bd-cecd-492a-9951-b4ac434085e5",
   "metadata": {},
   "outputs": [],
   "source": [
    "from os import PathLike\n",
    "from hdfs import InsecureClient\n",
    "from pyspark.sql import SparkSession\n",
    "from pyspark.sql import Row\n",
    "from delta import *\n",
    "from pyspark.sql.types import *\n",
    "from pyspark.sql.functions import *\n",
    "\n",
    "# warehouse_location points to the default location for managed databases and tables\n",
    "warehouse_location = 'hdfs://hdfs-nn:9000/Qualidade_NYC/gold'\n",
    "\n",
    "builder = SparkSession \\\n",
    "    .builder \\\n",
    "    .master(\"local[2]\") \\\n",
    "    .appName(\"Python Spark DataFrames and SQL\") \\\n",
    "    .config(\"spark.sql.warehouse.dir\", warehouse_location) \\\n",
    "    .config(\"hive.metastore.uris\", \"thrift://hive-metastore:9083\") \\\n",
    "    .config(\"spark.sql.extensions\", \"io.delta.sql.DeltaSparkSessionExtension\") \\\n",
    "    .config(\"spark.sql.catalog.spark_catalog\", \"org.apache.spark.sql.delta.catalog.DeltaCatalog\") \\\n",
    "    .config(\"spark.jars.packages\", \"io.delta:delta-core_2.12:1.0.0\") \\\n",
    "    .enableHiveSupport() \\\n",
    "\n",
    "spark = configure_spark_with_delta_pip(builder).getOrCreate()"
   ]
  },
  {
   "cell_type": "code",
   "execution_count": 69,
   "id": "8f9e3991-7970-4f25-be15-bda4d5764822",
   "metadata": {},
   "outputs": [
    {
     "data": {
      "text/plain": [
       "DataFrame[]"
      ]
     },
     "execution_count": 69,
     "metadata": {},
     "output_type": "execute_result"
    }
   ],
   "source": [
    "spark.sql(\n",
    "    \"\"\"\n",
    "    DROP TABLE IF EXISTS Trabalho.gold_Diseases\n",
    "    \"\"\"\n",
    ")"
   ]
  },
  {
   "cell_type": "code",
   "execution_count": 70,
   "id": "a9ecf856-8cde-4351-8e52-34957086dcbc",
   "metadata": {},
   "outputs": [
    {
     "data": {
      "text/plain": [
       "DataFrame[]"
      ]
     },
     "execution_count": 70,
     "metadata": {},
     "output_type": "execute_result"
    }
   ],
   "source": [
    "spark.sql(\n",
    "    \"\"\"\n",
    "    CREATE EXTERNAL TABLE Trabalho.gold_Diseases (\n",
    "        County_Name STRING,\n",
    "        Event_Count INT,\n",
    "        Average_Number_of_Denominator INT,\n",
    "        Percent_Rate FLOAT,\n",
    "        Quartile STRING,\n",
    "        Data_Years STRING\n",
    "    )\n",
    "    USING DELTA\n",
    "    LOCATION 'hdfs://hdfs-nn:9000/Qualidade_NYC/gold/Projeto.db/gold_Diseases/'\n",
    "    \"\"\"\n",
    ")"
   ]
  },
  {
   "cell_type": "code",
   "execution_count": 72,
   "id": "3d2966b5-556b-46a9-8812-ba1c6d2f7225",
   "metadata": {},
   "outputs": [
    {
     "name": "stdout",
     "output_type": "stream",
     "text": [
      "+-----------+-------------------+-----------------+----------------+--------------------+-----------+-----------------------------+------------+------------+--------------------+----------+--------------------+--------------------+--------------------+\n",
      "|County_Name|Health_Topic_Number|     Health_Topic|Indicator_Number|           Indicator|Event_Count|Average_Number_of_Denominator|Measure_Unit|Percent_Rate|            Quartile|Data_Years|         Data_Source|Mapping_Distribution|            Location|\n",
      "+-----------+-------------------+-----------------+----------------+--------------------+-----------+-----------------------------+------------+------------+--------------------+----------+--------------------+--------------------+--------------------+\n",
      "|     Cayuga|                  1|Cancer Indicators|              g7|Lung and bronchus...|        266|                        78805|        Rate|       112.5|      106.4 +   : Q4| 2013-2015|Cancer Registry D...|                   3|(42.940095, -76.5...|\n",
      "|  Jefferson|                  1|Cancer Indicators|              g7|Lung and bronchus...|        305|                       118365|        Rate|        85.9|0 - <   94.0  : Q...| 2013-2015|Cancer Registry D...|                   1|(44.019295, -75.8...|\n",
      "| Chautauqua|                  1|Cancer Indicators|              g7|Lung and bronchus...|        362|                       131932|        Rate|        91.5|0 - <   94.0  : Q...| 2013-2015|Cancer Registry D...|                   1|(42.246904, -79.3...|\n",
      "|      Wayne|                  1|Cancer Indicators|              g7|Lung and bronchus...|        277|                        91854|        Rate|       100.5|94.0 - <  106.4  ...| 2013-2015|Cancer Registry D...|                   2|(43.144336, -77.1...|\n",
      "|     Monroe|                  1|Cancer Indicators|              g7|Lung and bronchus...|       1691|                       749835|        Rate|        75.2|0 - <   94.0  : Q...| 2013-2015|Cancer Registry D...|                   1|(43.161748, -77.6...|\n",
      "|      Bronx|                  1|Cancer Indicators|              g7|Lung and bronchus...|       1900|                      1437811|        Rate|        44.0|0 - <   94.0  : Q...| 2013-2015|Cancer Registry D...|                   1|(40.85589, -73.86...|\n",
      "|  Schoharie|                  1|Cancer Indicators|              g7|Lung and bronchus...|        101|                        31645|        Rate|       106.4|94.0 - <  106.4  ...| 2013-2015|Cancer Registry D...|                   2|(42.643426, -74.4...|\n",
      "|   Cortland|                  1|Cancer Indicators|              g7|Lung and bronchus...|        126|                        48781|        Rate|        86.1|0 - <   94.0  : Q...| 2013-2015|Cancer Registry D...|                   1|(42.597101, -76.1...|\n",
      "|     Oneida|                  1|Cancer Indicators|              g7|Lung and bronchus...|        707|                       233013|        Rate|       101.1|94.0 - <  106.4  ...| 2013-2015|Cancer Registry D...|                   2|(43.149482, -75.3...|\n",
      "|    Suffolk|                  1|Cancer Indicators|              g7|Lung and bronchus...|       3619|                      1499562|        Rate|        80.4|0 - <   94.0  : Q...| 2013-2015|Cancer Registry D...|                   1|(40.820237, -73.1...|\n",
      "|   Richmond|                  1|Cancer Indicators|              g7|Lung and bronchus...|       1116|                       473209|        Rate|        78.6|0 - <   94.0  : Q...| 2013-2015|Cancer Registry D...|                   1|(40.566763, -74.1...|\n",
      "|      Essex|                  1|Cancer Indicators|              g7|Lung and bronchus...|        132|                        38592|        Rate|       114.0|      106.4 +   : Q4| 2013-2015|Cancer Registry D...|                   3|(44.166026, -73.6...|\n",
      "|     Putnam|                  1|Cancer Indicators|              g7|Lung and bronchus...|        220|                        99474|        Rate|        73.7|0 - <   94.0  : Q...| 2013-2015|Cancer Registry D...|                   1|(41.41131, -73.71...|\n",
      "|   Tompkins|                  1|Cancer Indicators|              g7|Lung and bronchus...|        162|                       104444|        Rate|        51.7|0 - <   94.0  : Q...| 2013-2015|Cancer Registry D...|                   1|(42.461024, -76.4...|\n",
      "|    Genesee|                  1|Cancer Indicators|              g7|Lung and bronchus...|        171|                        59007|        Rate|        96.6|94.0 - <  106.4  ...| 2013-2015|Cancer Registry D...|                   2|(43.000121, -78.1...|\n",
      "|     Orange|                  1|Cancer Indicators|              g7|Lung and bronchus...|        742|                       375967|        Rate|        65.8|0 - <   94.0  : Q...| 2013-2015|Cancer Registry D...|                   1|(41.422459, -74.2...|\n",
      "|Westchester|                  1|Cancer Indicators|              g7|Lung and bronchus...|       1769|                       970177|        Rate|        60.8|0 - <   94.0  : Q...| 2013-2015|Cancer Registry D...|                   1|(41.039278, -73.8...|\n",
      "| Rensselaer|                  1|Cancer Indicators|              g7|Lung and bronchus...|        504|                       160018|        Rate|       105.0|94.0 - <  106.4  ...| 2013-2015|Cancer Registry D...|                   2|(42.70098, -73.62...|\n",
      "|      Lewis|                  1|Cancer Indicators|              g7|Lung and bronchus...|         58|                        27135|        Rate|        71.2|0 - <   94.0  : Q...| 2013-2015|Cancer Registry D...|                   1|(43.785537, -75.4...|\n",
      "|    Chemung|                  1|Cancer Indicators|              g7|Lung and bronchus...|        246|                        87708|        Rate|        93.5|0 - <   94.0  : Q...| 2013-2015|Cancer Registry D...|                   1|(42.116644, -76.8...|\n",
      "+-----------+-------------------+-----------------+----------------+--------------------+-----------+-----------------------------+------------+------------+--------------------+----------+--------------------+--------------------+--------------------+\n",
      "only showing top 20 rows\n",
      "\n",
      "root\n",
      " |-- County_Name: string (nullable = true)\n",
      " |-- Health_Topic_Number: integer (nullable = true)\n",
      " |-- Health_Topic: string (nullable = true)\n",
      " |-- Indicator_Number: string (nullable = true)\n",
      " |-- Indicator: string (nullable = true)\n",
      " |-- Event_Count: integer (nullable = true)\n",
      " |-- Average_Number_of_Denominator: integer (nullable = true)\n",
      " |-- Measure_Unit: string (nullable = true)\n",
      " |-- Percent_Rate: float (nullable = true)\n",
      " |-- Quartile: string (nullable = true)\n",
      " |-- Data_Years: string (nullable = true)\n",
      " |-- Data_Source: string (nullable = true)\n",
      " |-- Mapping_Distribution: integer (nullable = true)\n",
      " |-- Location: string (nullable = true)\n",
      "\n"
     ]
    }
   ],
   "source": [
    "from pyspark.sql.functions import substring, avg, sum\n",
    "\n",
    "# read Diseases from the silver tables\n",
    "hdfs_path = \"hdfs://hdfs-nn:9000/Qualidade_NYC/silver/Projeto.db/Doencas\"\n",
    "\n",
    "gold_Diseases = spark\\\n",
    "             .read\\\n",
    "             .load(hdfs_path)\n",
    "\n",
    "gold_Diseases.show()\n",
    "gold_Diseases.printSchema()"
   ]
  },
  {
   "cell_type": "code",
   "execution_count": 73,
   "id": "15e26d85-ad27-496f-b829-c7a55ce128c6",
   "metadata": {},
   "outputs": [],
   "source": [
    "# write to delta table\n",
    "gold_Diseases \\\n",
    "    .select(\"County_Name\",\"Event_Count\",\"Average_Number_of_Denominator\",\"Percent_Rate\",\"Quartile\",\"Data_Years\") \\\n",
    "    .write \\\n",
    "    .format(\"delta\") \\\n",
    "    .mode(\"overwrite\") \\\n",
    "    .save(\"hdfs://hdfs-nn:9000/Qualidade_NYC/gold/Projeto.db/gold_Diseases/\")"
   ]
  },
  {
   "cell_type": "code",
   "execution_count": 74,
   "id": "fb21a0ae-7bc3-48b9-91a5-338d7bc50605",
   "metadata": {},
   "outputs": [
    {
     "name": "stdout",
     "output_type": "stream",
     "text": [
      "+-----------+-----------+-----------------------------+------------+--------------------+----------+\n",
      "|County_Name|Event_Count|Average_Number_of_Denominator|Percent_Rate|            Quartile|Data_Years|\n",
      "+-----------+-----------+-----------------------------+------------+--------------------+----------+\n",
      "|     Cayuga|        266|                        78805|       112.5|      106.4 +   : Q4| 2013-2015|\n",
      "|  Jefferson|        305|                       118365|        85.9|0 - <   94.0  : Q...| 2013-2015|\n",
      "| Chautauqua|        362|                       131932|        91.5|0 - <   94.0  : Q...| 2013-2015|\n",
      "|      Wayne|        277|                        91854|       100.5|94.0 - <  106.4  ...| 2013-2015|\n",
      "|     Monroe|       1691|                       749835|        75.2|0 - <   94.0  : Q...| 2013-2015|\n",
      "|      Bronx|       1900|                      1437811|        44.0|0 - <   94.0  : Q...| 2013-2015|\n",
      "|  Schoharie|        101|                        31645|       106.4|94.0 - <  106.4  ...| 2013-2015|\n",
      "|   Cortland|        126|                        48781|        86.1|0 - <   94.0  : Q...| 2013-2015|\n",
      "|     Oneida|        707|                       233013|       101.1|94.0 - <  106.4  ...| 2013-2015|\n",
      "|    Suffolk|       3619|                      1499562|        80.4|0 - <   94.0  : Q...| 2013-2015|\n",
      "|   Richmond|       1116|                       473209|        78.6|0 - <   94.0  : Q...| 2013-2015|\n",
      "|      Essex|        132|                        38592|       114.0|      106.4 +   : Q4| 2013-2015|\n",
      "|     Putnam|        220|                        99474|        73.7|0 - <   94.0  : Q...| 2013-2015|\n",
      "|   Tompkins|        162|                       104444|        51.7|0 - <   94.0  : Q...| 2013-2015|\n",
      "|    Genesee|        171|                        59007|        96.6|94.0 - <  106.4  ...| 2013-2015|\n",
      "|     Orange|        742|                       375967|        65.8|0 - <   94.0  : Q...| 2013-2015|\n",
      "|Westchester|       1769|                       970177|        60.8|0 - <   94.0  : Q...| 2013-2015|\n",
      "| Rensselaer|        504|                       160018|       105.0|94.0 - <  106.4  ...| 2013-2015|\n",
      "|      Lewis|         58|                        27135|        71.2|0 - <   94.0  : Q...| 2013-2015|\n",
      "|    Chemung|        246|                        87708|        93.5|0 - <   94.0  : Q...| 2013-2015|\n",
      "+-----------+-----------+-----------------------------+------------+--------------------+----------+\n",
      "only showing top 20 rows\n",
      "\n"
     ]
    },
    {
     "data": {
      "text/plain": [
       "62"
      ]
     },
     "execution_count": 74,
     "metadata": {},
     "output_type": "execute_result"
    }
   ],
   "source": [
    "# check the results in the table\n",
    "spark.table(\"Trabalho.gold_Diseases \").show()\n",
    "spark.table(\"Trabalho.gold_Diseases \").count()"
   ]
  },
  {
   "cell_type": "code",
   "execution_count": 75,
   "id": "59fc5a92-eaa1-43d3-a1b4-5af591ccf2ef",
   "metadata": {},
   "outputs": [
    {
     "name": "stdout",
     "output_type": "stream",
     "text": [
      "++\n",
      "||\n",
      "++\n",
      "++\n",
      "\n"
     ]
    }
   ],
   "source": [
    "spark.sql(\"\"\"\n",
    "GENERATE symlink_format_manifest FOR TABLE delta.`hdfs://hdfs-nn:9000/Qualidade_NYC/gold/Projeto.db/gold_Diseases/`\n",
    "\"\"\").show()"
   ]
  },
  {
   "cell_type": "code",
   "execution_count": 76,
   "id": "1f860c25-543b-411b-b5ea-729904cfcf0b",
   "metadata": {},
   "outputs": [
    {
     "name": "stdout",
     "output_type": "stream",
     "text": [
      "++\n",
      "||\n",
      "++\n",
      "++\n",
      "\n"
     ]
    }
   ],
   "source": [
    "spark.sql(\"\"\"\n",
    "DROP TABLE IF EXISTS Trabalho.gold_Diseases_presto \n",
    "\"\"\").show()"
   ]
  },
  {
   "cell_type": "code",
   "execution_count": 77,
   "id": "259a8548-6b36-4b92-80ae-22987da78469",
   "metadata": {},
   "outputs": [
    {
     "name": "stdout",
     "output_type": "stream",
     "text": [
      "++\n",
      "||\n",
      "++\n",
      "++\n",
      "\n"
     ]
    }
   ],
   "source": [
    "spark.sql(\"\"\"\n",
    "    CREATE EXTERNAL TABLE Trabalho.gold_Diseases_presto (\n",
    "        County_Name STRING,\n",
    "        Event_Count INT,\n",
    "        Average_Number_of_Denominator INT,\n",
    "        Percent_Rate FLOAT,\n",
    "        Quartile STRING,\n",
    "        Data_Years STRING\n",
    "     )\n",
    "ROW FORMAT SERDE 'org.apache.hadoop.hive.ql.io.parquet.serde.ParquetHiveSerDe'\n",
    "STORED AS INPUTFORMAT 'org.apache.hadoop.hive.ql.io.SymlinkTextInputFormat'\n",
    "OUTPUTFORMAT 'org.apache.hadoop.hive.ql.io.HiveIgnoreKeyTextOutputFormat'\n",
    "LOCATION 'hdfs://hdfs-nn:9000/Qualidade_NYC/gold/Projeto.db/gold_Diseases/_symlink_format_manifest'\n",
    "\"\"\").show()"
   ]
  },
  {
   "cell_type": "code",
   "execution_count": null,
   "id": "80789a53-2789-4d33-bebe-0f62732842cd",
   "metadata": {},
   "outputs": [],
   "source": []
  }
 ],
 "metadata": {
  "kernelspec": {
   "display_name": "Python 3 (ipykernel)",
   "language": "python",
   "name": "python3"
  },
  "language_info": {
   "codemirror_mode": {
    "name": "ipython",
    "version": 3
   },
   "file_extension": ".py",
   "mimetype": "text/x-python",
   "name": "python",
   "nbconvert_exporter": "python",
   "pygments_lexer": "ipython3",
   "version": "3.10.6"
  }
 },
 "nbformat": 4,
 "nbformat_minor": 5
}
