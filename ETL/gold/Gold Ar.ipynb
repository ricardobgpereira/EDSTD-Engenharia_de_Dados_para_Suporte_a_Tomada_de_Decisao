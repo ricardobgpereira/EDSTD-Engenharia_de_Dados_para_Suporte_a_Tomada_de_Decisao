{
 "cells": [
  {
   "cell_type": "code",
   "execution_count": 2,
   "id": "c9c852a2-aab5-4599-8415-d2289e9b136d",
   "metadata": {},
   "outputs": [
    {
     "name": "stdout",
     "output_type": "stream",
     "text": [
      "Requirement already satisfied: delta-spark in /opt/conda/lib/python3.10/site-packages (2.1.0)\n",
      "Requirement already satisfied: pyspark<3.4.0,>=3.3.0 in /usr/local/spark-3.3.0-bin-hadoop3/python (from delta-spark) (3.3.0)\n",
      "Requirement already satisfied: importlib-metadata>=1.0.0 in /opt/conda/lib/python3.10/site-packages (from delta-spark) (4.11.4)\n",
      "Requirement already satisfied: zipp>=0.5 in /opt/conda/lib/python3.10/site-packages (from importlib-metadata>=1.0.0->delta-spark) (3.8.1)\n",
      "Requirement already satisfied: py4j==0.10.9.5 in /opt/conda/lib/python3.10/site-packages (from pyspark<3.4.0,>=3.3.0->delta-spark) (0.10.9.5)\n",
      "Note: you may need to restart the kernel to use updated packages.\n"
     ]
    }
   ],
   "source": [
    "pip install delta-spark\n"
   ]
  },
  {
   "cell_type": "code",
   "execution_count": 3,
   "id": "f6d16727-3f01-417e-9fc9-3cae00204be1",
   "metadata": {},
   "outputs": [],
   "source": [
    "from os import PathLike\n",
    "from hdfs import InsecureClient\n",
    "from pyspark.sql import SparkSession\n",
    "from pyspark.sql import Row\n",
    "from delta import *\n",
    "from pyspark.sql.types import *\n",
    "from pyspark.sql.functions import *\n",
    "\n",
    "# warehouse_location points to the default location for managed databases and tables\n",
    "warehouse_location = 'hdfs://hdfs-nn:9000/Qualidade_NYC/gold'\n",
    "\n",
    "builder = SparkSession \\\n",
    "    .builder \\\n",
    "    .master(\"local[2]\") \\\n",
    "    .appName(\"Python Spark DataFrames and SQL\") \\\n",
    "    .config(\"spark.sql.warehouse.dir\", warehouse_location) \\\n",
    "    .config(\"hive.metastore.uris\", \"thrift://hive-metastore:9083\") \\\n",
    "    .config(\"spark.sql.extensions\", \"io.delta.sql.DeltaSparkSessionExtension\") \\\n",
    "    .config(\"spark.sql.catalog.spark_catalog\", \"org.apache.spark.sql.delta.catalog.DeltaCatalog\") \\\n",
    "    .config(\"spark.jars.packages\", \"io.delta:delta-core_2.12:1.0.0\") \\\n",
    "    .enableHiveSupport() \\\n",
    "\n",
    "spark = configure_spark_with_delta_pip(builder).getOrCreate()"
   ]
  },
  {
   "cell_type": "code",
   "execution_count": 13,
   "id": "47b52b04-7140-40ed-8f64-737a26d2188a",
   "metadata": {},
   "outputs": [
    {
     "data": {
      "text/plain": [
       "DataFrame[]"
      ]
     },
     "execution_count": 13,
     "metadata": {},
     "output_type": "execute_result"
    }
   ],
   "source": [
    "spark.sql(\n",
    "    \"\"\"\n",
    "    CREATE DATABASE IF NOT EXISTS gold LOCATION 'hdfs://hdfs-nn:9000/Qualidade_NYC/gold/Projeto.db/'\n",
    "    \"\"\"\n",
    ")"
   ]
  },
  {
   "cell_type": "code",
   "execution_count": 4,
   "id": "35602ab2-6838-41eb-a146-b188362f5c05",
   "metadata": {},
   "outputs": [
    {
     "data": {
      "text/plain": [
       "DataFrame[]"
      ]
     },
     "execution_count": 4,
     "metadata": {},
     "output_type": "execute_result"
    }
   ],
   "source": [
    "# create AirQuality table in gold\n",
    "\n",
    "spark.sql(\n",
    "    \"\"\"\n",
    "    DROP TABLE IF EXISTS Trabalho.gold_AirQuality\n",
    "    \"\"\"\n",
    ")"
   ]
  },
  {
   "cell_type": "code",
   "execution_count": 14,
   "id": "6496a729-5e9d-410e-8087-0dfd37066e26",
   "metadata": {},
   "outputs": [
    {
     "data": {
      "text/plain": [
       "DataFrame[]"
      ]
     },
     "execution_count": 14,
     "metadata": {},
     "output_type": "execute_result"
    }
   ],
   "source": [
    "spark.sql(\n",
    "    \"\"\"\n",
    "    CREATE EXTERNAL TABLE Trabalho.gold_AirQuality (\n",
    "        Name STRING,\n",
    "        Geo_Place_Name STRING,\n",
    "        Time_Period STRING,\n",
    "        Data_Value FLOAT,\n",
    "        Year INT\n",
    "    )\n",
    "    USING DELTA\n",
    "    LOCATION 'hdfs://hdfs-nn:9000/Qualidade_NYC/gold/Projeto.db/gold_AirQuality/'\n",
    "    \"\"\"\n",
    ")"
   ]
  },
  {
   "cell_type": "code",
   "execution_count": 15,
   "id": "de2abaa0-72dc-4f2b-9589-e866b0e2f315",
   "metadata": {},
   "outputs": [
    {
     "name": "stdout",
     "output_type": "stream",
     "text": [
      "+---------+------------+--------------------+--------------+------------+-------------+-----------+--------------------+-----------+----------+----------+----+\n",
      "|Unique_ID|Indicator_ID|                Name|       Measure|Measure_Info|Geo_Type_Name|Geo_Join_ID|      Geo_Place_Name|Time_Period|Start_Date|Data_Value|Year|\n",
      "+---------+------------+--------------------+--------------+------------+-------------+-----------+--------------------+-----------+----------+----------+----+\n",
      "|   179718|         642|Boiler Emissions-...|Number per km2|      number|        UHF42|        504|South Beach - Tot...|       2015|01/01/2015|       2.0|2015|\n",
      "|   179719|         642|Boiler Emissions-...|Number per km2|      number|        UHF42|        503|         Willowbrook|       2015|01/01/2015|       2.1|2015|\n",
      "|   179720|         642|Boiler Emissions-...|Number per km2|      number|        UHF42|        501|       Port Richmond|       2015|01/01/2015|       2.8|2015|\n",
      "|   179721|         642|Boiler Emissions-...|Number per km2|      number|        UHF42|        502|Stapleton - St. G...|       2015|01/01/2015|       4.6|2015|\n",
      "|   179722|         642|Boiler Emissions-...|Number per km2|      number|        UHF42|        410|           Rockaways|       2015|01/01/2015|       6.1|2015|\n",
      "|   179723|         642|Boiler Emissions-...|Number per km2|      number|        UHF42|        208|Canarsie - Flatlands|       2015|01/01/2015|       6.6|2015|\n",
      "|   179724|         642|Boiler Emissions-...|Number per km2|      number|        UHF42|        409|    Southeast Queens|       2015|01/01/2015|       8.1|2015|\n",
      "|   179725|         642|Boiler Emissions-...|Number per km2|      number|        UHF42|        404|Bayside - Little ...|       2015|01/01/2015|       9.8|2015|\n",
      "|   179726|         642|Boiler Emissions-...|Number per km2|      number|        UHF42|        408|             Jamaica|       2015|01/01/2015|      13.1|2015|\n",
      "|   179727|         642|Boiler Emissions-...|Number per km2|      number|        UHF42|        205|         Sunset Park|       2015|01/01/2015|      13.9|2015|\n",
      "|   179728|         642|Boiler Emissions-...|Number per km2|      number|        UHF42|        407|    Southwest Queens|       2015|01/01/2015|      14.3|2015|\n",
      "|   179729|         642|Boiler Emissions-...|Number per km2|      number|        UHF42|        406|       Fresh Meadows|       2015|01/01/2015|      14.3|2015|\n",
      "|   179730|         642|Boiler Emissions-...|Number per km2|      number|        UHF42|        204|       East New York|       2015|01/01/2015|      14.7|2015|\n",
      "|   179731|         642|Boiler Emissions-...|Number per km2|      number|        UHF42|        403|Flushing - Clearview|       2015|01/01/2015|      17.0|2015|\n",
      "|   179732|         642|Boiler Emissions-...|Number per km2|      number|        UHF42|        201|          Greenpoint|       2015|01/01/2015|      18.8|2015|\n",
      "|   179733|         642|Boiler Emissions-...|Number per km2|      number|        UHF42|        405|Ridgewood - Fores...|       2015|01/01/2015|      22.5|2015|\n",
      "|   179734|         642|Boiler Emissions-...|Number per km2|      number|        UHF42|        210|Coney Island - Sh...|       2015|01/01/2015|      23.5|2015|\n",
      "|   179735|         642|Boiler Emissions-...|Number per km2|      number|        UHF42|        104|Pelham - Throgs Neck|       2015|01/01/2015|      23.6|2015|\n",
      "|   179736|         642|Boiler Emissions-...|Number per km2|      number|        UHF42|        402|         West Queens|       2015|01/01/2015|      23.7|2015|\n",
      "|   179737|         642|Boiler Emissions-...|Number per km2|      number|        UHF42|        209|Bensonhurst - Bay...|       2015|01/01/2015|      26.1|2015|\n",
      "+---------+------------+--------------------+--------------+------------+-------------+-----------+--------------------+-----------+----------+----------+----+\n",
      "only showing top 20 rows\n",
      "\n",
      "root\n",
      " |-- Unique_ID: string (nullable = true)\n",
      " |-- Indicator_ID: integer (nullable = true)\n",
      " |-- Name: string (nullable = true)\n",
      " |-- Measure: string (nullable = true)\n",
      " |-- Measure_Info: string (nullable = true)\n",
      " |-- Geo_Type_Name: string (nullable = true)\n",
      " |-- Geo_Join_ID: string (nullable = true)\n",
      " |-- Geo_Place_Name: string (nullable = true)\n",
      " |-- Time_Period: string (nullable = true)\n",
      " |-- Start_Date: string (nullable = true)\n",
      " |-- Data_Value: float (nullable = true)\n",
      " |-- Year: integer (nullable = true)\n",
      "\n"
     ]
    }
   ],
   "source": [
    "from pyspark.sql.functions import substring, avg, sum\n",
    "\n",
    "#read AirQuality from the silver tables\n",
    "hdfs_path = \"hdfs://hdfs-nn:9000/Qualidade_NYC/silver/Projeto.db/Qualidade_Ar\"\n",
    "\n",
    "gold_AirQuality = spark\\\n",
    "             .read\\\n",
    "             .load(hdfs_path)\n",
    "\n",
    "gold_AirQuality.show()\n",
    "gold_AirQuality.printSchema()"
   ]
  },
  {
   "cell_type": "code",
   "execution_count": 16,
   "id": "d8007e51-dbd4-4c9f-973a-cdabf2f8bce4",
   "metadata": {},
   "outputs": [
    {
     "name": "stdout",
     "output_type": "stream",
     "text": [
      "+--------------------+--------------------+-----+\n",
      "|                Name|      Geo_Place_Name|count|\n",
      "+--------------------+--------------------+-----+\n",
      "|Boiler Emissions-...|             Jamaica|    2|\n",
      "|Boiler Emissions-...|    Southwest Queens|    2|\n",
      "|Boiler Emissions-...|Pelham - Throgs Neck|    2|\n",
      "|Fine Particulate ...|       Port Richmond|   36|\n",
      "|          Ozone (O3)|Financial Distric...|   12|\n",
      "|PM2.5-Attributabl...|Bensonhurst - Bay...|    4|\n",
      "|PM2.5-Attributabl...|       Staten Island|    4|\n",
      "|PM2.5-Attributabl...|            Brooklyn|    4|\n",
      "|O3-Attributable A...|          Greenpoint|    8|\n",
      "|O3-Attributable C...|Downtown - Height...|    4|\n",
      "|Air Toxics Concen...|Central Harlem (C...|    1|\n",
      "|Nitrogen Dioxide ...|  Washington Heights|   72|\n",
      "|          Ozone (O3)|       Fresh Meadows|   12|\n",
      "|          Ozone (O3)|Throgs Neck and C...|   12|\n",
      "|Sulfur Dioxide (SO2)|           Rockaways|   16|\n",
      "|O3-Attributable A...|   Chelsea - Clinton|    8|\n",
      "|Air Toxics Concen...|Upper East Side (...|    1|\n",
      "|Air Toxics Concen...|Elmhurst and Coro...|    1|\n",
      "|Boiler Emissions-...|           Rockaways|    2|\n",
      "|Fine Particulate ...|East New York and...|   36|\n",
      "+--------------------+--------------------+-----+\n",
      "only showing top 20 rows\n",
      "\n"
     ]
    }
   ],
   "source": [
    "#group by name, geo place name\n",
    "from pyspark.sql.functions import sum,avg,max,count\n",
    "gold = gold_AirQuality.groupBy(\"Name\",\"Geo_Place_Name\").count()\\\n",
    "    .show()"
   ]
  },
  {
   "cell_type": "code",
   "execution_count": 17,
   "id": "244c8052-392e-466c-a49b-cd0483b69f11",
   "metadata": {},
   "outputs": [],
   "source": [
    "# write to delta table\n",
    "gold_AirQuality \\\n",
    "    .select(\"Name\",\"Geo_Place_Name\",\"Time_Period\",\"Data_Value\",\"Year\") \\\n",
    "    .write \\\n",
    "    .format(\"delta\") \\\n",
    "    .mode(\"overwrite\") \\\n",
    "    .save(\"hdfs://hdfs-nn:9000/Qualidade_NYC/gold/Projeto.db/gold_AirQuality/\")"
   ]
  },
  {
   "cell_type": "code",
   "execution_count": 18,
   "id": "8e991e58-568a-487d-a656-79f0cd0384b1",
   "metadata": {},
   "outputs": [
    {
     "name": "stdout",
     "output_type": "stream",
     "text": [
      "+--------------------+--------------------+-----------+----------+----+\n",
      "|                Name|      Geo_Place_Name|Time_Period|Data_Value|Year|\n",
      "+--------------------+--------------------+-----------+----------+----+\n",
      "|Boiler Emissions-...|South Beach - Tot...|       2015|       2.0|2015|\n",
      "|Boiler Emissions-...|         Willowbrook|       2015|       2.1|2015|\n",
      "|Boiler Emissions-...|       Port Richmond|       2015|       2.8|2015|\n",
      "|Boiler Emissions-...|Stapleton - St. G...|       2015|       4.6|2015|\n",
      "|Boiler Emissions-...|           Rockaways|       2015|       6.1|2015|\n",
      "|Boiler Emissions-...|Canarsie - Flatlands|       2015|       6.6|2015|\n",
      "|Boiler Emissions-...|    Southeast Queens|       2015|       8.1|2015|\n",
      "|Boiler Emissions-...|Bayside - Little ...|       2015|       9.8|2015|\n",
      "|Boiler Emissions-...|             Jamaica|       2015|      13.1|2015|\n",
      "|Boiler Emissions-...|         Sunset Park|       2015|      13.9|2015|\n",
      "|Boiler Emissions-...|    Southwest Queens|       2015|      14.3|2015|\n",
      "|Boiler Emissions-...|       Fresh Meadows|       2015|      14.3|2015|\n",
      "|Boiler Emissions-...|       East New York|       2015|      14.7|2015|\n",
      "|Boiler Emissions-...|Flushing - Clearview|       2015|      17.0|2015|\n",
      "|Boiler Emissions-...|          Greenpoint|       2015|      18.8|2015|\n",
      "|Boiler Emissions-...|Ridgewood - Fores...|       2015|      22.5|2015|\n",
      "|Boiler Emissions-...|Coney Island - Sh...|       2015|      23.5|2015|\n",
      "|Boiler Emissions-...|Pelham - Throgs Neck|       2015|      23.6|2015|\n",
      "|Boiler Emissions-...|         West Queens|       2015|      23.7|2015|\n",
      "|Boiler Emissions-...|Bensonhurst - Bay...|       2015|      26.1|2015|\n",
      "+--------------------+--------------------+-----------+----------+----+\n",
      "only showing top 20 rows\n",
      "\n"
     ]
    },
    {
     "data": {
      "text/plain": [
       "16122"
      ]
     },
     "execution_count": 18,
     "metadata": {},
     "output_type": "execute_result"
    }
   ],
   "source": [
    "# check the results in the table\n",
    "spark.table(\"Trabalho.gold_AirQuality \").show()\n",
    "spark.table(\"Trabalho.gold_AirQuality \").count()"
   ]
  },
  {
   "cell_type": "code",
   "execution_count": 19,
   "id": "8b3b90ea-4bb8-4aad-8009-49595dc1794b",
   "metadata": {},
   "outputs": [
    {
     "name": "stdout",
     "output_type": "stream",
     "text": [
      "++\n",
      "||\n",
      "++\n",
      "++\n",
      "\n"
     ]
    }
   ],
   "source": [
    "spark.sql(\"\"\"\n",
    "GENERATE symlink_format_manifest FOR TABLE delta.`hdfs://hdfs-nn:9000/Qualidade_NYC/gold/Projeto.db/gold_AirQuality/`\n",
    "\"\"\").show()"
   ]
  },
  {
   "cell_type": "code",
   "execution_count": 20,
   "id": "10150dbe-59bf-4af8-9318-48dcc4148a81",
   "metadata": {},
   "outputs": [
    {
     "name": "stdout",
     "output_type": "stream",
     "text": [
      "++\n",
      "||\n",
      "++\n",
      "++\n",
      "\n"
     ]
    }
   ],
   "source": [
    "spark.sql(\"\"\"\n",
    "DROP TABLE IF EXISTS Trabalho.gold_AirQuality_presto \n",
    "\"\"\").show()\n"
   ]
  },
  {
   "cell_type": "code",
   "execution_count": 4,
   "id": "90dcd0d2-8f5a-47a6-9f60-b90b0b35c36c",
   "metadata": {},
   "outputs": [
    {
     "ename": "AnalysisException",
     "evalue": "Table or view 'gold_airquality_presto' already exists in database 'trabalho'",
     "output_type": "error",
     "traceback": [
      "\u001b[0;31m---------------------------------------------------------------------------\u001b[0m",
      "\u001b[0;31mAnalysisException\u001b[0m                         Traceback (most recent call last)",
      "Cell \u001b[0;32mIn [4], line 1\u001b[0m\n\u001b[0;32m----> 1\u001b[0m spark\u001b[38;5;241m.\u001b[39msql(\u001b[38;5;124m\"\"\"\u001b[39m\n\u001b[1;32m      2\u001b[0m \u001b[38;5;124m    CREATE EXTERNAL TABLE Trabalho.gold_AirQuality_presto (\u001b[39m\n\u001b[1;32m      3\u001b[0m \u001b[38;5;124m        Name STRING,\u001b[39m\n\u001b[1;32m      4\u001b[0m \u001b[38;5;124m        Geo_Place_Name STRING,\u001b[39m\n\u001b[1;32m      5\u001b[0m \u001b[38;5;124m        Time_Period STRING,\u001b[39m\n\u001b[1;32m      6\u001b[0m \u001b[38;5;124m        Data_Value FLOAT,\u001b[39m\n\u001b[1;32m      7\u001b[0m \u001b[38;5;124m        Year INT\u001b[39m\n\u001b[1;32m      8\u001b[0m \n\u001b[1;32m      9\u001b[0m \u001b[38;5;124m    )\u001b[39m\n\u001b[1;32m     10\u001b[0m \u001b[38;5;124mROW FORMAT SERDE \u001b[39m\u001b[38;5;124m'\u001b[39m\u001b[38;5;124morg.apache.hadoop.hive.ql.io.parquet.serde.ParquetHiveSerDe\u001b[39m\u001b[38;5;124m'\u001b[39m\n\u001b[1;32m     11\u001b[0m \u001b[38;5;124mSTORED AS INPUTFORMAT \u001b[39m\u001b[38;5;124m'\u001b[39m\u001b[38;5;124morg.apache.hadoop.hive.ql.io.SymlinkTextInputFormat\u001b[39m\u001b[38;5;124m'\u001b[39m\n\u001b[1;32m     12\u001b[0m \u001b[38;5;124mOUTPUTFORMAT \u001b[39m\u001b[38;5;124m'\u001b[39m\u001b[38;5;124morg.apache.hadoop.hive.ql.io.HiveIgnoreKeyTextOutputFormat\u001b[39m\u001b[38;5;124m'\u001b[39m\n\u001b[1;32m     13\u001b[0m \u001b[38;5;124mLOCATION \u001b[39m\u001b[38;5;124m'\u001b[39m\u001b[38;5;124mhdfs://hdfs-nn:9000/Qualidade_NYC/gold/Projeto.db/gold_AirQuality/_symlink_format_manifest\u001b[39m\u001b[38;5;124m'\u001b[39m\n\u001b[1;32m     14\u001b[0m \u001b[38;5;124m\"\"\"\u001b[39m)\u001b[38;5;241m.\u001b[39mshow()\n",
      "File \u001b[0;32m/usr/local/spark/python/pyspark/sql/session.py:1034\u001b[0m, in \u001b[0;36mSparkSession.sql\u001b[0;34m(self, sqlQuery, **kwargs)\u001b[0m\n\u001b[1;32m   1032\u001b[0m     sqlQuery \u001b[38;5;241m=\u001b[39m formatter\u001b[38;5;241m.\u001b[39mformat(sqlQuery, \u001b[38;5;241m*\u001b[39m\u001b[38;5;241m*\u001b[39mkwargs)\n\u001b[1;32m   1033\u001b[0m \u001b[38;5;28;01mtry\u001b[39;00m:\n\u001b[0;32m-> 1034\u001b[0m     \u001b[38;5;28;01mreturn\u001b[39;00m DataFrame(\u001b[38;5;28;43mself\u001b[39;49m\u001b[38;5;241;43m.\u001b[39;49m\u001b[43m_jsparkSession\u001b[49m\u001b[38;5;241;43m.\u001b[39;49m\u001b[43msql\u001b[49m\u001b[43m(\u001b[49m\u001b[43msqlQuery\u001b[49m\u001b[43m)\u001b[49m, \u001b[38;5;28mself\u001b[39m)\n\u001b[1;32m   1035\u001b[0m \u001b[38;5;28;01mfinally\u001b[39;00m:\n\u001b[1;32m   1036\u001b[0m     \u001b[38;5;28;01mif\u001b[39;00m \u001b[38;5;28mlen\u001b[39m(kwargs) \u001b[38;5;241m>\u001b[39m \u001b[38;5;241m0\u001b[39m:\n",
      "File \u001b[0;32m/usr/local/spark/python/lib/py4j-0.10.9.5-src.zip/py4j/java_gateway.py:1321\u001b[0m, in \u001b[0;36mJavaMember.__call__\u001b[0;34m(self, *args)\u001b[0m\n\u001b[1;32m   1315\u001b[0m command \u001b[38;5;241m=\u001b[39m proto\u001b[38;5;241m.\u001b[39mCALL_COMMAND_NAME \u001b[38;5;241m+\u001b[39m\\\n\u001b[1;32m   1316\u001b[0m     \u001b[38;5;28mself\u001b[39m\u001b[38;5;241m.\u001b[39mcommand_header \u001b[38;5;241m+\u001b[39m\\\n\u001b[1;32m   1317\u001b[0m     args_command \u001b[38;5;241m+\u001b[39m\\\n\u001b[1;32m   1318\u001b[0m     proto\u001b[38;5;241m.\u001b[39mEND_COMMAND_PART\n\u001b[1;32m   1320\u001b[0m answer \u001b[38;5;241m=\u001b[39m \u001b[38;5;28mself\u001b[39m\u001b[38;5;241m.\u001b[39mgateway_client\u001b[38;5;241m.\u001b[39msend_command(command)\n\u001b[0;32m-> 1321\u001b[0m return_value \u001b[38;5;241m=\u001b[39m \u001b[43mget_return_value\u001b[49m\u001b[43m(\u001b[49m\n\u001b[1;32m   1322\u001b[0m \u001b[43m    \u001b[49m\u001b[43manswer\u001b[49m\u001b[43m,\u001b[49m\u001b[43m \u001b[49m\u001b[38;5;28;43mself\u001b[39;49m\u001b[38;5;241;43m.\u001b[39;49m\u001b[43mgateway_client\u001b[49m\u001b[43m,\u001b[49m\u001b[43m \u001b[49m\u001b[38;5;28;43mself\u001b[39;49m\u001b[38;5;241;43m.\u001b[39;49m\u001b[43mtarget_id\u001b[49m\u001b[43m,\u001b[49m\u001b[43m \u001b[49m\u001b[38;5;28;43mself\u001b[39;49m\u001b[38;5;241;43m.\u001b[39;49m\u001b[43mname\u001b[49m\u001b[43m)\u001b[49m\n\u001b[1;32m   1324\u001b[0m \u001b[38;5;28;01mfor\u001b[39;00m temp_arg \u001b[38;5;129;01min\u001b[39;00m temp_args:\n\u001b[1;32m   1325\u001b[0m     temp_arg\u001b[38;5;241m.\u001b[39m_detach()\n",
      "File \u001b[0;32m/usr/local/spark/python/pyspark/sql/utils.py:196\u001b[0m, in \u001b[0;36mcapture_sql_exception.<locals>.deco\u001b[0;34m(*a, **kw)\u001b[0m\n\u001b[1;32m    192\u001b[0m converted \u001b[38;5;241m=\u001b[39m convert_exception(e\u001b[38;5;241m.\u001b[39mjava_exception)\n\u001b[1;32m    193\u001b[0m \u001b[38;5;28;01mif\u001b[39;00m \u001b[38;5;129;01mnot\u001b[39;00m \u001b[38;5;28misinstance\u001b[39m(converted, UnknownException):\n\u001b[1;32m    194\u001b[0m     \u001b[38;5;66;03m# Hide where the exception came from that shows a non-Pythonic\u001b[39;00m\n\u001b[1;32m    195\u001b[0m     \u001b[38;5;66;03m# JVM exception message.\u001b[39;00m\n\u001b[0;32m--> 196\u001b[0m     \u001b[38;5;28;01mraise\u001b[39;00m converted \u001b[38;5;28;01mfrom\u001b[39;00m \u001b[38;5;28mNone\u001b[39m\n\u001b[1;32m    197\u001b[0m \u001b[38;5;28;01melse\u001b[39;00m:\n\u001b[1;32m    198\u001b[0m     \u001b[38;5;28;01mraise\u001b[39;00m\n",
      "\u001b[0;31mAnalysisException\u001b[0m: Table or view 'gold_airquality_presto' already exists in database 'trabalho'"
     ]
    }
   ],
   "source": [
    "\n",
    "spark.sql(\"\"\"\n",
    "    CREATE EXTERNAL TABLE Trabalho.gold_AirQuality_presto (\n",
    "        Name STRING,\n",
    "        Geo_Place_Name STRING,\n",
    "        Time_Period STRING,\n",
    "        Data_Value FLOAT,\n",
    "        Year INT\n",
    "\n",
    "    )\n",
    "ROW FORMAT SERDE 'org.apache.hadoop.hive.ql.io.parquet.serde.ParquetHiveSerDe'\n",
    "STORED AS INPUTFORMAT 'org.apache.hadoop.hive.ql.io.SymlinkTextInputFormat'\n",
    "OUTPUTFORMAT 'org.apache.hadoop.hive.ql.io.HiveIgnoreKeyTextOutputFormat'\n",
    "LOCATION 'hdfs://hdfs-nn:9000/Qualidade_NYC/gold/Projeto.db/gold_AirQuality/_symlink_format_manifest'\n",
    "\"\"\").show()"
   ]
  },
  {
   "cell_type": "code",
   "execution_count": null,
   "id": "3a8e9f9c-afca-4fdc-ae32-e5ad101d3e49",
   "metadata": {},
   "outputs": [],
   "source": []
  }
 ],
 "metadata": {
  "kernelspec": {
   "display_name": "Python 3 (ipykernel)",
   "language": "python",
   "name": "python3"
  },
  "language_info": {
   "codemirror_mode": {
    "name": "ipython",
    "version": 3
   },
   "file_extension": ".py",
   "mimetype": "text/x-python",
   "name": "python",
   "nbconvert_exporter": "python",
   "pygments_lexer": "ipython3",
   "version": "3.10.6"
  }
 },
 "nbformat": 4,
 "nbformat_minor": 5
}
