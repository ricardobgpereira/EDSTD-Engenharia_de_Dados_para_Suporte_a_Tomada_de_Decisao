{
 "cells": [
  {
   "cell_type": "code",
   "execution_count": 1,
   "id": "153f1ae7-c3cf-4ba4-9950-f667f775f5b9",
   "metadata": {},
   "outputs": [
    {
     "name": "stdout",
     "output_type": "stream",
     "text": [
      "Requirement already satisfied: delta-spark in /opt/conda/lib/python3.10/site-packages (2.1.0)\n",
      "Requirement already satisfied: importlib-metadata>=1.0.0 in /opt/conda/lib/python3.10/site-packages (from delta-spark) (4.11.4)\n",
      "Requirement already satisfied: pyspark<3.4.0,>=3.3.0 in /usr/local/spark-3.3.0-bin-hadoop3/python (from delta-spark) (3.3.0)\n",
      "Requirement already satisfied: zipp>=0.5 in /opt/conda/lib/python3.10/site-packages (from importlib-metadata>=1.0.0->delta-spark) (3.8.1)\n",
      "Requirement already satisfied: py4j==0.10.9.5 in /opt/conda/lib/python3.10/site-packages (from pyspark<3.4.0,>=3.3.0->delta-spark) (0.10.9.5)\n",
      "Note: you may need to restart the kernel to use updated packages.\n"
     ]
    }
   ],
   "source": [
    "pip install delta-spark"
   ]
  },
  {
   "cell_type": "code",
   "execution_count": 24,
   "id": "e19a19f9-c3a7-4dfe-a1ff-58ed569741e2",
   "metadata": {},
   "outputs": [],
   "source": [
    "from os import PathLike\n",
    "from hdfs import InsecureClient\n",
    "from pyspark.sql import SparkSession\n",
    "from pyspark.sql import Row\n",
    "from delta import *\n",
    "from pyspark.sql.types import *\n",
    "from pyspark.sql.functions import *\n",
    "\n",
    "# warehouse_location points to the default location for managed databases and tables\n",
    "warehouse_location = 'hdfs://hdfs-nn:9000/Qualidade_NYC/gold'\n",
    "\n",
    "builder = SparkSession \\\n",
    "    .builder \\\n",
    "    .master(\"local[2]\") \\\n",
    "    .appName(\"Python Spark DataFrames and SQL\") \\\n",
    "    .config(\"spark.sql.warehouse.dir\", warehouse_location) \\\n",
    "    .config(\"hive.metastore.uris\", \"thrift://hive-metastore:9083\") \\\n",
    "    .config(\"spark.sql.extensions\", \"io.delta.sql.DeltaSparkSessionExtension\") \\\n",
    "    .config(\"spark.sql.catalog.spark_catalog\", \"org.apache.spark.sql.delta.catalog.DeltaCatalog\") \\\n",
    "    .config(\"spark.jars.packages\", \"io.delta:delta-core_2.12:1.0.0\") \\\n",
    "    .enableHiveSupport() \\\n",
    "\n",
    "spark = configure_spark_with_delta_pip(builder).getOrCreate()"
   ]
  },
  {
   "cell_type": "code",
   "execution_count": 25,
   "id": "3046da09-e5f5-49b6-baf2-cee3e7aef19e",
   "metadata": {},
   "outputs": [
    {
     "data": {
      "text/plain": [
       "DataFrame[]"
      ]
     },
     "execution_count": 25,
     "metadata": {},
     "output_type": "execute_result"
    }
   ],
   "source": [
    "# create Reciclagem table in gold\n",
    "\n",
    "spark.sql(\n",
    "    \"\"\"\n",
    "    DROP TABLE IF EXISTS Trabalho.gold_Recycling\n",
    "    \"\"\"\n",
    ")"
   ]
  },
  {
   "cell_type": "code",
   "execution_count": 26,
   "id": "8c3a8680-0f3e-4b2a-a8b7-cd2e60343c52",
   "metadata": {},
   "outputs": [
    {
     "data": {
      "text/plain": [
       "DataFrame[]"
      ]
     },
     "execution_count": 26,
     "metadata": {},
     "output_type": "execute_result"
    }
   ],
   "source": [
    "spark.sql(\n",
    "    \"\"\"\n",
    "    CREATE EXTERNAL TABLE Trabalho.gold_Recycling (\n",
    "        Zone STRING,\n",
    "        Fiscal_Year INT,\n",
    "        Month_Name STRING,\n",
    "        Diversion_Rate_Total FLOAT,\n",
    "        Capture_Rate_Paper FLOAT,\n",
    "        Capture_Rate_MGP FLOAT,\n",
    "        Capture_Rate_Total FLOAT\n",
    "        \n",
    "    )\n",
    "    USING DELTA\n",
    "    LOCATION 'hdfs://hdfs-nn:9000/Qualidade_NYC/gold/Projeto.db/gold_Recycling/'\n",
    "    \"\"\"\n",
    ")"
   ]
  },
  {
   "cell_type": "code",
   "execution_count": 27,
   "id": "4959b358-77d5-4600-a6ea-5588b7ef43b7",
   "metadata": {},
   "outputs": [
    {
     "name": "stdout",
     "output_type": "stream",
     "text": [
      "+--------------+--------+-------------------+----------+--------------------+------------------+----------------+------------------+-----------+\n",
      "|          Zone|District|Fiscal_Month_Number|Month_Name|Diversion_Rate_Total|Capture_Rate_Paper|Capture_Rate_MGP|Capture_Rate_Total|Fiscal_Year|\n",
      "+--------------+--------+-------------------+----------+--------------------+------------------+----------------+------------------+-----------+\n",
      "|Brooklyn North|   BKN01|                 10|     April|                13.7|              41.0|            44.3|              42.3|       2016|\n",
      "|Brooklyn North|   BKN02|                 10|     April|                17.6|              33.2|            55.4|              39.8|       2016|\n",
      "|Brooklyn North|   BKN03|                 10|     April|                10.9|              30.5|            39.3|              34.1|       2016|\n",
      "|Brooklyn North|   BKN04|                 10|     April|                13.4|              30.3|            59.3|              42.1|       2016|\n",
      "|Brooklyn North|   BKN05|                 10|     April|                 9.6|              22.4|            41.6|              30.2|       2016|\n",
      "|Brooklyn North|   BKN08|                 10|     April|                15.2|              40.1|            55.8|              46.5|       2016|\n",
      "|Brooklyn North|   BKN09|                 10|     April|                11.7|              31.4|            42.9|              35.8|       2016|\n",
      "|Brooklyn North|   BKN16|                 10|     April|                 8.2|              21.2|            32.2|              25.7|       2016|\n",
      "|Brooklyn North|   BKN17|                 10|     April|                13.2|              29.5|            58.0|              40.3|       2016|\n",
      "|Brooklyn South|   BKS06|                 10|     April|                30.1|              47.4|            85.4|              58.6|       2016|\n",
      "|Brooklyn South|   BKS07|                 10|     April|                20.4|              47.2|            71.0|              56.2|       2016|\n",
      "|Brooklyn South|   BKS10|                 10|     April|                24.9|              57.3|            76.2|              64.4|       2016|\n",
      "|Brooklyn South|   BKS11|                 10|     April|                17.7|              47.3|            65.1|              54.1|       2016|\n",
      "|Brooklyn South|   BKS12|                 10|     April|                14.4|              47.5|            41.5|              45.0|       2016|\n",
      "|Brooklyn South|   BKS13|                 10|     April|                13.4|              39.6|            51.9|              44.9|       2016|\n",
      "|Brooklyn South|   BKS14|                 10|     April|                15.0|              36.9|            57.4|              43.9|       2016|\n",
      "|Brooklyn South|   BKS15|                 10|     April|                17.6|              48.5|            62.4|              53.8|       2016|\n",
      "|Brooklyn South|   BKS18|                 10|     April|                15.0|              41.6|            68.4|              51.1|       2016|\n",
      "|         Bronx|    BX01|                 10|     April|                 6.8|              19.7|            26.8|              22.8|       2016|\n",
      "|         Bronx|    BX02|                 10|     April|                12.5|              32.3|            54.3|              41.9|       2016|\n",
      "+--------------+--------+-------------------+----------+--------------------+------------------+----------------+------------------+-----------+\n",
      "only showing top 20 rows\n",
      "\n",
      "root\n",
      " |-- Zone: string (nullable = true)\n",
      " |-- District: string (nullable = true)\n",
      " |-- Fiscal_Month_Number: integer (nullable = true)\n",
      " |-- Month_Name: string (nullable = true)\n",
      " |-- Diversion_Rate_Total: float (nullable = true)\n",
      " |-- Capture_Rate_Paper: float (nullable = true)\n",
      " |-- Capture_Rate_MGP: float (nullable = true)\n",
      " |-- Capture_Rate_Total: float (nullable = true)\n",
      " |-- Fiscal_Year: integer (nullable = true)\n",
      "\n"
     ]
    }
   ],
   "source": [
    "from pyspark.sql.functions import substring, avg, sum\n",
    "\n",
    "# read Recycling from the silver tables\n",
    "hdfs_path = \"hdfs://hdfs-nn:9000/Qualidade_NYC/silver/Projeto.db/Reciclagem\"\n",
    "\n",
    "gold_Recycling = spark\\\n",
    "             .read\\\n",
    "             .load(hdfs_path)\n",
    "\n",
    "gold_Recycling.show()\n",
    "gold_Recycling.printSchema()"
   ]
  },
  {
   "cell_type": "code",
   "execution_count": 28,
   "id": "5b99ec6b-6cc3-4729-ad76-af6a0ca77a5e",
   "metadata": {},
   "outputs": [
    {
     "name": "stdout",
     "output_type": "stream",
     "text": [
      "+--------------+-----------+--------------------+-----+\n",
      "|          Zone|Fiscal_Year|Diversion_Rate_Total|count|\n",
      "+--------------+-----------+--------------------+-----+\n",
      "|   Queens East|       2016|                17.8|    1|\n",
      "|         Bronx|       2016|                16.9|    1|\n",
      "|Brooklyn South|       2016|                20.1|    2|\n",
      "|Brooklyn North|       2016|                17.5|    1|\n",
      "|   Queens West|       2017|                21.2|    2|\n",
      "|Brooklyn North|       2017|                11.0|    1|\n",
      "|   Queens West|       2017|                24.0|    1|\n",
      "|Brooklyn North|       2017|                14.5|    1|\n",
      "|         Bronx|       2017|                15.8|    1|\n",
      "|         Bronx|       2016|                11.9|    1|\n",
      "|     Manhattan|       2016|                17.1|    2|\n",
      "|     Manhattan|       2017|                11.5|    1|\n",
      "|     Manhattan|       2016|                24.7|    1|\n",
      "| Staten Island|       2016|                19.2|    1|\n",
      "|Brooklyn North|       2016|                10.9|    2|\n",
      "|Brooklyn North|       2016|                17.7|    2|\n",
      "|Brooklyn South|       2016|                15.7|    1|\n",
      "|Brooklyn South|       2016|                18.7|    1|\n",
      "|   Queens West|       2016|                18.6|    2|\n",
      "|Brooklyn North|       2017|                14.8|    2|\n",
      "+--------------+-----------+--------------------+-----+\n",
      "only showing top 20 rows\n",
      "\n"
     ]
    }
   ],
   "source": [
    "#group by name, geo place name\n",
    "from pyspark.sql.functions import sum,avg,max,count\n",
    "gold = gold_Recycling.groupBy(\"Zone\",\"Fiscal_Year\",\"Diversion_Rate_Total\",).count()\\\n",
    "    .show()"
   ]
  },
  {
   "cell_type": "code",
   "execution_count": 29,
   "id": "33287520-f4ac-4b92-abf8-bdd7725d777f",
   "metadata": {},
   "outputs": [],
   "source": [
    "# write to delta table\n",
    "gold_Recycling \\\n",
    "    .select(\"Zone\",\"Month_Name\",\"Diversion_Rate_Total\",\"Capture_Rate_Paper\",\"Capture_Rate_MGP\",\"Capture_Rate_Total\",\"Fiscal_Year\") \\\n",
    "    .write \\\n",
    "    .format(\"delta\") \\\n",
    "    .mode(\"overwrite\") \\\n",
    "    .save(\"hdfs://hdfs-nn:9000/Qualidade_NYC/gold/Projeto.db/gold_Recycling/\")"
   ]
  },
  {
   "cell_type": "code",
   "execution_count": 30,
   "id": "decb8ce1-7a15-49ec-a7dc-c706b132cfde",
   "metadata": {},
   "outputs": [
    {
     "name": "stdout",
     "output_type": "stream",
     "text": [
      "+--------------+-----------+----------+--------------------+------------------+----------------+------------------+\n",
      "|          Zone|Fiscal_Year|Month_Name|Diversion_Rate_Total|Capture_Rate_Paper|Capture_Rate_MGP|Capture_Rate_Total|\n",
      "+--------------+-----------+----------+--------------------+------------------+----------------+------------------+\n",
      "|Brooklyn North|       2016|     April|                13.7|              41.0|            44.3|              42.3|\n",
      "|Brooklyn North|       2016|     April|                17.6|              33.2|            55.4|              39.8|\n",
      "|Brooklyn North|       2016|     April|                10.9|              30.5|            39.3|              34.1|\n",
      "|Brooklyn North|       2016|     April|                13.4|              30.3|            59.3|              42.1|\n",
      "|Brooklyn North|       2016|     April|                 9.6|              22.4|            41.6|              30.2|\n",
      "|Brooklyn North|       2016|     April|                15.2|              40.1|            55.8|              46.5|\n",
      "|Brooklyn North|       2016|     April|                11.7|              31.4|            42.9|              35.8|\n",
      "|Brooklyn North|       2016|     April|                 8.2|              21.2|            32.2|              25.7|\n",
      "|Brooklyn North|       2016|     April|                13.2|              29.5|            58.0|              40.3|\n",
      "|Brooklyn South|       2016|     April|                30.1|              47.4|            85.4|              58.6|\n",
      "|Brooklyn South|       2016|     April|                20.4|              47.2|            71.0|              56.2|\n",
      "|Brooklyn South|       2016|     April|                24.9|              57.3|            76.2|              64.4|\n",
      "|Brooklyn South|       2016|     April|                17.7|              47.3|            65.1|              54.1|\n",
      "|Brooklyn South|       2016|     April|                14.4|              47.5|            41.5|              45.0|\n",
      "|Brooklyn South|       2016|     April|                13.4|              39.6|            51.9|              44.9|\n",
      "|Brooklyn South|       2016|     April|                15.0|              36.9|            57.4|              43.9|\n",
      "|Brooklyn South|       2016|     April|                17.6|              48.5|            62.4|              53.8|\n",
      "|Brooklyn South|       2016|     April|                15.0|              41.6|            68.4|              51.1|\n",
      "|         Bronx|       2016|     April|                 6.8|              19.7|            26.8|              22.8|\n",
      "|         Bronx|       2016|     April|                12.5|              32.3|            54.3|              41.9|\n",
      "+--------------+-----------+----------+--------------------+------------------+----------------+------------------+\n",
      "only showing top 20 rows\n",
      "\n"
     ]
    },
    {
     "data": {
      "text/plain": [
       "2832"
      ]
     },
     "execution_count": 30,
     "metadata": {},
     "output_type": "execute_result"
    }
   ],
   "source": [
    "# check the results in the table\n",
    "spark.table(\"Trabalho.gold_Recycling \").show()\n",
    "spark.table(\"Trabalho.gold_Recycling \").count()"
   ]
  },
  {
   "cell_type": "code",
   "execution_count": 31,
   "id": "5e3eafd6-71c1-44bc-86ea-8884aee5f129",
   "metadata": {},
   "outputs": [
    {
     "name": "stdout",
     "output_type": "stream",
     "text": [
      "++\n",
      "||\n",
      "++\n",
      "++\n",
      "\n"
     ]
    }
   ],
   "source": [
    "spark.sql(\"\"\"\n",
    "GENERATE symlink_format_manifest FOR TABLE delta.`hdfs://hdfs-nn:9000/Qualidade_NYC/gold/Projeto.db/gold_Recycling/`\n",
    "\"\"\").show()"
   ]
  },
  {
   "cell_type": "code",
   "execution_count": 32,
   "id": "67ae7a41-f815-47f9-9674-a5a09adb7253",
   "metadata": {},
   "outputs": [
    {
     "name": "stdout",
     "output_type": "stream",
     "text": [
      "++\n",
      "||\n",
      "++\n",
      "++\n",
      "\n"
     ]
    }
   ],
   "source": [
    "spark.sql(\"\"\"\n",
    "DROP TABLE IF EXISTS Trabalho.gold_Recycling_presto \n",
    "\"\"\").show()\n"
   ]
  },
  {
   "cell_type": "code",
   "execution_count": 36,
   "id": "991f4b1c-22a1-4431-9174-909f4100de9f",
   "metadata": {},
   "outputs": [
    {
     "name": "stdout",
     "output_type": "stream",
     "text": [
      "++\n",
      "||\n",
      "++\n",
      "++\n",
      "\n"
     ]
    }
   ],
   "source": [
    "spark.sql(\"\"\"\n",
    "    CREATE EXTERNAL TABLE Trabalho.gold_Recycling_presto (\n",
    "        Zone STRING,\n",
    "        Fiscal_Year INT,\n",
    "        Month_Name STRING,\n",
    "        Diversion_Rate_Total FLOAT,\n",
    "        Capture_Rate_Paper FLOAT,\n",
    "        Capture_Rate_MGP FLOAT,\n",
    "        Capture_Rate_Total FLOAT\n",
    "        \n",
    "    )\n",
    "ROW FORMAT SERDE 'org.apache.hadoop.hive.ql.io.parquet.serde.ParquetHiveSerDe'\n",
    "STORED AS INPUTFORMAT 'org.apache.hadoop.hive.ql.io.SymlinkTextInputFormat'\n",
    "OUTPUTFORMAT 'org.apache.hadoop.hive.ql.io.HiveIgnoreKeyTextOutputFormat'\n",
    "LOCATION 'hdfs://hdfs-nn:9000/Qualidade_NYC/gold/Projeto.db/gold_Recycling/_symlink_format_manifest'\n",
    "\"\"\").show()"
   ]
  },
  {
   "cell_type": "code",
   "execution_count": null,
   "id": "e8b3ec8f-f6ee-47ae-8bd9-b28c98746a45",
   "metadata": {},
   "outputs": [],
   "source": []
  }
 ],
 "metadata": {
  "kernelspec": {
   "display_name": "Python 3 (ipykernel)",
   "language": "python",
   "name": "python3"
  },
  "language_info": {
   "codemirror_mode": {
    "name": "ipython",
    "version": 3
   },
   "file_extension": ".py",
   "mimetype": "text/x-python",
   "name": "python",
   "nbconvert_exporter": "python",
   "pygments_lexer": "ipython3",
   "version": "3.10.6"
  }
 },
 "nbformat": 4,
 "nbformat_minor": 5
}
